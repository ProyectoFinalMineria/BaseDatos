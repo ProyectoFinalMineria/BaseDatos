{
 "cells": [
  {
   "cell_type": "markdown",
   "metadata": {},
   "source": [
    "# Encabezados"
   ]
  },
  {
   "cell_type": "markdown",
   "metadata": {},
   "source": [
    "# Encabezado 1\n",
    "## Encabezado 2\n",
    "### Encabezado 3\n",
    "#### Encabezado 4\n",
    "##### Encabezado 5\n",
    "###### Encabezado 6"
   ]
  },
  {
   "cell_type": "markdown",
   "metadata": {},
   "source": [
    "## Minería de Datos\n",
    "### Equipo 2          &emsp;&emsp;&emsp;  Viernes 15:00 p.m. - 18:00 p.m.\n",
    ">Martínez Granados Enrique     &ensp;&emsp;&emsp; 1837553<br>\n",
    "Espinosa Bravo Carlos Antonio  &emsp; 1730505<br>\n",
    "Morales Cárdenas Alan          &ensp;&emsp;&emsp;&emsp;&emsp; 1726709"
   ]
  },
  {
   "cell_type": "markdown",
   "metadata": {},
   "source": [
    "> Una linea a la izq\n",
    ">> Dos lineas a la izq\n",
    ">>> Tres lineas a la izq"
   ]
  },
  {
   "cell_type": "markdown",
   "metadata": {},
   "source": [
    "Hacer listas: \n",
    "- Puede ser asi\n",
    "* Puede ser asi\n",
    "+ Puede ser asi\n",
    "+ + Para indentar\n",
    "+ + + Puede ser asi"
   ]
  },
  {
   "cell_type": "markdown",
   "metadata": {},
   "source": [
    "Con numeros:\n",
    "1. Hola\n",
    "1. Adios\n",
    "    1. Hola\n",
    "    2. Adios\n",
    "    3. q\n",
    "        1. l\n",
    "  1. l"
   ]
  },
  {
   "cell_type": "markdown",
   "metadata": {},
   "source": [
    "Hacer lineas: \n",
    "\n",
    "Asi\n",
    "___\n",
    "\n",
    "O asi\n",
    "\n",
    "***\n",
    "\n",
    "O asi \n",
    "\n",
    "---"
   ]
  },
  {
   "cell_type": "markdown",
   "metadata": {},
   "source": [
    "*Esto es cursiva*\n",
    "\n",
    "_Tambien cursiva_\n",
    "\n",
    "**Esto es negritas**\n",
    "\n",
    "__Tambien negritas__\n",
    "\n",
    "***Esto es cursiva y negritas***\n",
    "\n",
    "___Tambien cursiva y negritas___"
   ]
  },
  {
   "cell_type": "markdown",
   "metadata": {},
   "source": [
    "Esto tiene formato de `linea de codigo`"
   ]
  }
 ],
 "metadata": {
  "kernelspec": {
   "display_name": "Python 3",
   "language": "python",
   "name": "python3"
  },
  "language_info": {
   "codemirror_mode": {
    "name": "ipython",
    "version": 3
   },
   "file_extension": ".py",
   "mimetype": "text/x-python",
   "name": "python",
   "nbconvert_exporter": "python",
   "pygments_lexer": "ipython3",
   "version": "3.7.4"
  }
 },
 "nbformat": 4,
 "nbformat_minor": 2
}
