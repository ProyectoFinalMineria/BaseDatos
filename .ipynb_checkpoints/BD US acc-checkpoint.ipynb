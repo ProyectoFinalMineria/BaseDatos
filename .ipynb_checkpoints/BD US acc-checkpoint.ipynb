{
 "cells": [
  {
   "cell_type": "markdown",
   "metadata": {},
   "source": [
    "---\n",
    "## Minería de Datos\n",
    "---\n",
    "### Equipo 2          &emsp;&emsp;&emsp;  Viernes 15:00 p.m. - 18:00 p.m.\n",
    ">Martínez Granados Enrique     &ensp;&emsp;&emsp; 1837553<br>\n",
    "Espinosa Bravo Carlos Antonio  &emsp; 1730505<br>\n",
    "Morales Cárdenas Alan          &ensp;&emsp;&emsp;&emsp;&emsp; 1726709"
   ]
  },
  {
   "cell_type": "markdown",
   "metadata": {},
   "source": [
    "---\n",
    "# Base de Datos: US Accidents (Accidentes en los Estados Unidos)\n",
    "---\n",
    "Nuestra base de datos esta enfocada en los accidentes de carro que ocurrieron entre Febrero del 2016 y Diciembre del 2019 en 49 estados de los Estados Unidos.\n",
    "Esta cuenta con una tabla compuesta por 49 columnas, de las cuales la mayoría son datos tipo string, pero también incluye podemos encontrar otros datos tipo booleanos, enteros, decimales, fechas, coordenadas y un mapa.\n",
    "\n",
    "Breve descripcion de las columnas:\n",
    ">Columna 1: &ensp;ID (Identificador): nos sirve para identificar el accidente y que sea su número único.<br>\n",
    "Columna 2: &ensp;Source (Fuente): nos indica de donde se obtuvo la información del accidente, puede ser Mapquest o Bing. <br>\n",
    "Columna 3: &ensp;Traffic Message Channel (Canal de mensajes de tráfico): es un código que nos brinda información extra del accidente.<br>\n",
    "Columna 4: &ensp;Severity (Severidad): nos indica qué tan grave fue el accidente a través de valores enteros del 1 al 4, donde 1 es el menor y 4 el  peor.<br>\n",
    "Columna 5 y 6: &ensp;Start_time y End_time (Inicio y fin del accidente): nos indica la fecha de inicio y fin del accidente en tiempo local.<br>\n",
    "Columa 7, 8, 9 y 10: &ensp;Start_Lat, Start_Lng, End_Lat y End_Lng (Inicio latitud), (Inicio longitud), (Fin latitud) y (Fin longitud): nos indican las coordenadas de inicio y fin del accidente.<br>\n",
    "Columna 11: &ensp;Distance (Distancia): nos indica la distancia afectada por el accidente.<br>\n",
    "Columna 12: &ensp;Description (Descripción): nos describe en lenguaje más común el accidente.<br>\n",
    "Columna 13, 14, 15, 16, 17, 18, 19 y 20: &ensp;Number, Street, Side, City, County, State, Zipcode, Country (Número), (Calle), (Lado), (Ciudad), (Condado), (Estado), (Código Postal), País): nos indican la ubicación del accidente, con la dirección que incluye calle, número, código postal, la ciudad, el condado, el estado y el país, en este caso el país para todos es USA.<br>\n",
    "Columna 21: &ensp;Timezone (Zona horaria): nos indica la zona horaria a la que pertenece la dirección donde fue el accidente.<br>\n",
    "Columna 22: &ensp;Airport Code (Código de aeropuerto): indica el código del aeropuerto más cercano a la zona del accidente.<br>\n",
    "Columna 23: &ensp;Weather_timestamp (Marca temporal del clima): nos indica cómo estaba pronosticado el clima en la fecha del accidente.<br>\n",
    "Columna 24, 25, 26, 27 y 28: &ensp;Temperature, Wind_chill, Humidity, Pressure, Visibility (Temperatura), (Sensación térmica), (Humedad), (Presión atmosférica), (Visibilidad): nos indica como estaba el clima al momento del accidente, en caso de temperatura, sensación térmica, presión, visibilidad.<br>\n",
    "Columna 29 y 30: &ensp;Wind_direction y Wind_speed (Dirección del viento), (Velocidad del viento): nos indica cómo estaba el viento al momento del accidente.<br>\n",
    "Columna 31 y 32: &ensp;Precipitation y Weather_condition (Precipitación), (Condiciones climáticas): nos indica un poco más del clima en el momento del accidente.<br>\n",
    "Columna 33: &ensp;Amenity (Servicios): nos indica si había estaciones de servicio cerca del lugar del accidente.<br>\n",
    "Columna 34, 35, 36, 37, 38, 39, 40, 41, 42, 43, 44 y 45: &ensp;Bump, Crossing, Give_way, Junction, No_exit, Railway, Roundabout, Station, Stop, Traffic_calming, Traffic_signal, Turning_loop (Bordo), (Cruce), (Ceda el paso), (Unión), (No salida), (Vías férreas), (Rotonda), (Estación), (Alto), (Calmante de tráfico), (Señal de tráfico), (Vuelta): nos indica si cerca del accidente había algún tipo de controlador de tráfico, como lo son las boyas, los bordos, las señales de alto, las estaciones de bus o de tren, etc.<br>\n",
    "Columna 46, 47, 48 y 49: &ensp;Sunrise_sunset, Civil_twilight, Nautical_twilight, Astronomical_twilight (Salida y puesta de sol), (luz civil), (luz náutica), (luz astronómica): nos indica información sobre cuánta luz había al momento del accidente y el horario según diferentes mediciones.<br>\n"
   ]
  },
  {
   "cell_type": "markdown",
   "metadata": {},
   "source": [
    "---\n",
    "### Justificación del uso de datos y preguntas de interés\n",
    "---\n",
    "Las características que más nos llamaron la atención de esta base de datos es que puede ser utilizada para predecir las zonas más peligrosas según condiciones del clima, la cantidad de accidentes que hay en la zona y qué tan graves son para así usar esta información para tomar medidas de precaución al transitar por dichas zonas en las condiciones encontradas. \n",
    "Tenemos distintas variables predictoras y algunas variables que podemos poner como dependientes de estas, que si logramos ver cómo es que se relacionan, podemos crear un conjunto de variables definidas que puedan ayudar a las autoridades de los estados que se encuentren en mayor riesgo a tomar acción  (poner más señalamientos o advertir a la ciudadanía de las zonas) para el beneficio de la comunidad.\n",
    "El beneficio de trabajar con estos datos es que son fáciles de leer y de trabajar con ellos, puesto que, aunque hay varios que son texto, son pocas opciones que podemos representar como valores numéricos y no son imágenes. Además de que estamos familiarizados con los datos, lo cual nos permite realizar un mejor análisis.\n",
    "\n",
    "En nuestro caso encontramos información relacionada con nuestra base de datos en las siguientes fuentes:\n",
    "\n",
    "En donde podemos observar ciertos estados y tipos de clima que muestran tener mas accidentes, lo cual nos servira de punto de partida para trabajar con nuestra base de datos.\n",
    "\n",
    "Ya con esto definido, establecimos nuestras preguntas de interes como las siguientes:\n",
    "\n",
    "-\t¿En qué estado y en que condiciones climaticas se debe tener más precaución a la hora de manejar debido a que su severidad tiende a ser mayor?\n",
    "-   ¿El hecho de que un estado/tipo de clima cuente con una gran cantidad de choques lo convierte automaticamente en un estado/tipo de clima de alto riesgo en cuanto a severidad?\n",
    "-\t¿Las variables temperatura, humedad y tiempo de duración del accidente afectan de forma significativa a la severidad de un accidente?\n",
    "\n"
   ]
  },
  {
   "cell_type": "markdown",
   "metadata": {},
   "source": [
    "## Primera parte: Limpieza de base de datos "
   ]
  },
  {
   "cell_type": "code",
   "execution_count": 2,
   "metadata": {},
   "outputs": [],
   "source": [
    "import pandas as pd\n",
    "import numpy as np"
   ]
  },
  {
   "cell_type": "markdown",
   "metadata": {},
   "source": [
    "Primero importamos algunas librerias útiles para las primeras tareas que serán de limpieza."
   ]
  },
  {
   "cell_type": "code",
   "execution_count": 2,
   "metadata": {},
   "outputs": [
    {
     "data": {
      "text/html": [
       "<div>\n",
       "<style scoped>\n",
       "    .dataframe tbody tr th:only-of-type {\n",
       "        vertical-align: middle;\n",
       "    }\n",
       "\n",
       "    .dataframe tbody tr th {\n",
       "        vertical-align: top;\n",
       "    }\n",
       "\n",
       "    .dataframe thead th {\n",
       "        text-align: right;\n",
       "    }\n",
       "</style>\n",
       "<table border=\"1\" class=\"dataframe\">\n",
       "  <thead>\n",
       "    <tr style=\"text-align: right;\">\n",
       "      <th></th>\n",
       "      <th>ID</th>\n",
       "      <th>Source</th>\n",
       "      <th>TMC</th>\n",
       "      <th>Severity</th>\n",
       "      <th>Start_Time</th>\n",
       "      <th>End_Time</th>\n",
       "      <th>Start_Lat</th>\n",
       "      <th>Start_Lng</th>\n",
       "      <th>End_Lat</th>\n",
       "      <th>End_Lng</th>\n",
       "      <th>...</th>\n",
       "      <th>Roundabout</th>\n",
       "      <th>Station</th>\n",
       "      <th>Stop</th>\n",
       "      <th>Traffic_Calming</th>\n",
       "      <th>Traffic_Signal</th>\n",
       "      <th>Turning_Loop</th>\n",
       "      <th>Sunrise_Sunset</th>\n",
       "      <th>Civil_Twilight</th>\n",
       "      <th>Nautical_Twilight</th>\n",
       "      <th>Astronomical_Twilight</th>\n",
       "    </tr>\n",
       "  </thead>\n",
       "  <tbody>\n",
       "    <tr>\n",
       "      <td>0</td>\n",
       "      <td>A-1</td>\n",
       "      <td>MapQuest</td>\n",
       "      <td>201.0</td>\n",
       "      <td>3</td>\n",
       "      <td>2016-02-08 05:46:00</td>\n",
       "      <td>2016-02-08 11:00:00</td>\n",
       "      <td>39.865147</td>\n",
       "      <td>-84.058723</td>\n",
       "      <td>NaN</td>\n",
       "      <td>NaN</td>\n",
       "      <td>...</td>\n",
       "      <td>False</td>\n",
       "      <td>False</td>\n",
       "      <td>False</td>\n",
       "      <td>False</td>\n",
       "      <td>False</td>\n",
       "      <td>False</td>\n",
       "      <td>Night</td>\n",
       "      <td>Night</td>\n",
       "      <td>Night</td>\n",
       "      <td>Night</td>\n",
       "    </tr>\n",
       "    <tr>\n",
       "      <td>1</td>\n",
       "      <td>A-2</td>\n",
       "      <td>MapQuest</td>\n",
       "      <td>201.0</td>\n",
       "      <td>2</td>\n",
       "      <td>2016-02-08 06:07:59</td>\n",
       "      <td>2016-02-08 06:37:59</td>\n",
       "      <td>39.928059</td>\n",
       "      <td>-82.831184</td>\n",
       "      <td>NaN</td>\n",
       "      <td>NaN</td>\n",
       "      <td>...</td>\n",
       "      <td>False</td>\n",
       "      <td>False</td>\n",
       "      <td>False</td>\n",
       "      <td>False</td>\n",
       "      <td>False</td>\n",
       "      <td>False</td>\n",
       "      <td>Night</td>\n",
       "      <td>Night</td>\n",
       "      <td>Night</td>\n",
       "      <td>Day</td>\n",
       "    </tr>\n",
       "    <tr>\n",
       "      <td>2</td>\n",
       "      <td>A-3</td>\n",
       "      <td>MapQuest</td>\n",
       "      <td>201.0</td>\n",
       "      <td>2</td>\n",
       "      <td>2016-02-08 06:49:27</td>\n",
       "      <td>2016-02-08 07:19:27</td>\n",
       "      <td>39.063148</td>\n",
       "      <td>-84.032608</td>\n",
       "      <td>NaN</td>\n",
       "      <td>NaN</td>\n",
       "      <td>...</td>\n",
       "      <td>False</td>\n",
       "      <td>False</td>\n",
       "      <td>False</td>\n",
       "      <td>False</td>\n",
       "      <td>True</td>\n",
       "      <td>False</td>\n",
       "      <td>Night</td>\n",
       "      <td>Night</td>\n",
       "      <td>Day</td>\n",
       "      <td>Day</td>\n",
       "    </tr>\n",
       "    <tr>\n",
       "      <td>3</td>\n",
       "      <td>A-4</td>\n",
       "      <td>MapQuest</td>\n",
       "      <td>201.0</td>\n",
       "      <td>3</td>\n",
       "      <td>2016-02-08 07:23:34</td>\n",
       "      <td>2016-02-08 07:53:34</td>\n",
       "      <td>39.747753</td>\n",
       "      <td>-84.205582</td>\n",
       "      <td>NaN</td>\n",
       "      <td>NaN</td>\n",
       "      <td>...</td>\n",
       "      <td>False</td>\n",
       "      <td>False</td>\n",
       "      <td>False</td>\n",
       "      <td>False</td>\n",
       "      <td>False</td>\n",
       "      <td>False</td>\n",
       "      <td>Night</td>\n",
       "      <td>Day</td>\n",
       "      <td>Day</td>\n",
       "      <td>Day</td>\n",
       "    </tr>\n",
       "    <tr>\n",
       "      <td>4</td>\n",
       "      <td>A-5</td>\n",
       "      <td>MapQuest</td>\n",
       "      <td>201.0</td>\n",
       "      <td>2</td>\n",
       "      <td>2016-02-08 07:39:07</td>\n",
       "      <td>2016-02-08 08:09:07</td>\n",
       "      <td>39.627781</td>\n",
       "      <td>-84.188354</td>\n",
       "      <td>NaN</td>\n",
       "      <td>NaN</td>\n",
       "      <td>...</td>\n",
       "      <td>False</td>\n",
       "      <td>False</td>\n",
       "      <td>False</td>\n",
       "      <td>False</td>\n",
       "      <td>True</td>\n",
       "      <td>False</td>\n",
       "      <td>Day</td>\n",
       "      <td>Day</td>\n",
       "      <td>Day</td>\n",
       "      <td>Day</td>\n",
       "    </tr>\n",
       "  </tbody>\n",
       "</table>\n",
       "<p>5 rows × 49 columns</p>\n",
       "</div>"
      ],
      "text/plain": [
       "    ID    Source    TMC  Severity           Start_Time             End_Time  \\\n",
       "0  A-1  MapQuest  201.0         3  2016-02-08 05:46:00  2016-02-08 11:00:00   \n",
       "1  A-2  MapQuest  201.0         2  2016-02-08 06:07:59  2016-02-08 06:37:59   \n",
       "2  A-3  MapQuest  201.0         2  2016-02-08 06:49:27  2016-02-08 07:19:27   \n",
       "3  A-4  MapQuest  201.0         3  2016-02-08 07:23:34  2016-02-08 07:53:34   \n",
       "4  A-5  MapQuest  201.0         2  2016-02-08 07:39:07  2016-02-08 08:09:07   \n",
       "\n",
       "   Start_Lat  Start_Lng  End_Lat  End_Lng  ...  Roundabout Station   Stop  \\\n",
       "0  39.865147 -84.058723      NaN      NaN  ...       False   False  False   \n",
       "1  39.928059 -82.831184      NaN      NaN  ...       False   False  False   \n",
       "2  39.063148 -84.032608      NaN      NaN  ...       False   False  False   \n",
       "3  39.747753 -84.205582      NaN      NaN  ...       False   False  False   \n",
       "4  39.627781 -84.188354      NaN      NaN  ...       False   False  False   \n",
       "\n",
       "  Traffic_Calming Traffic_Signal Turning_Loop Sunrise_Sunset Civil_Twilight  \\\n",
       "0           False          False        False          Night          Night   \n",
       "1           False          False        False          Night          Night   \n",
       "2           False           True        False          Night          Night   \n",
       "3           False          False        False          Night            Day   \n",
       "4           False           True        False            Day            Day   \n",
       "\n",
       "  Nautical_Twilight Astronomical_Twilight  \n",
       "0             Night                 Night  \n",
       "1             Night                   Day  \n",
       "2               Day                   Day  \n",
       "3               Day                   Day  \n",
       "4               Day                   Day  \n",
       "\n",
       "[5 rows x 49 columns]"
      ]
     },
     "execution_count": 2,
     "metadata": {},
     "output_type": "execute_result"
    }
   ],
   "source": [
    "path_quique=\"C:/Users/enriq/Desktop/Actuaría Sem 8/Minería de Datos/US_Accidents_Dec19.csv\"\n",
    "path_carlos=\"D:/Documentoss/Carlos/trabajos de la compu gris/Tareas de facultad/Semestre 7/mineria datos/bases de datos/US_Accidents_Dec19.csv\"\n",
    "#path_alan=\n",
    "bd_us_acc=pd.read_csv(path_carlos,encoding=\"utf8\")\n",
    "bd_us_acc.head(5)"
   ]
  },
  {
   "cell_type": "markdown",
   "metadata": {},
   "source": [
    "Ahora bajamos la base de datos a una variable para poder trabajar con ella y manipularla."
   ]
  },
  {
   "cell_type": "code",
   "execution_count": 3,
   "metadata": {},
   "outputs": [
    {
     "data": {
      "text/plain": [
       "ID                        object\n",
       "Source                    object\n",
       "TMC                      float64\n",
       "Severity                   int64\n",
       "Start_Time                object\n",
       "End_Time                  object\n",
       "Start_Lat                float64\n",
       "Start_Lng                float64\n",
       "End_Lat                  float64\n",
       "End_Lng                  float64\n",
       "Distance(mi)             float64\n",
       "Description               object\n",
       "Number                   float64\n",
       "Street                    object\n",
       "Side                      object\n",
       "City                      object\n",
       "County                    object\n",
       "State                     object\n",
       "Zipcode                   object\n",
       "Country                   object\n",
       "Timezone                  object\n",
       "Airport_Code              object\n",
       "Weather_Timestamp         object\n",
       "Temperature(F)           float64\n",
       "Wind_Chill(F)            float64\n",
       "Humidity(%)              float64\n",
       "Pressure(in)             float64\n",
       "Visibility(mi)           float64\n",
       "Wind_Direction            object\n",
       "Wind_Speed(mph)          float64\n",
       "Precipitation(in)        float64\n",
       "Weather_Condition         object\n",
       "Amenity                     bool\n",
       "Bump                        bool\n",
       "Crossing                    bool\n",
       "Give_Way                    bool\n",
       "Junction                    bool\n",
       "No_Exit                     bool\n",
       "Railway                     bool\n",
       "Roundabout                  bool\n",
       "Station                     bool\n",
       "Stop                        bool\n",
       "Traffic_Calming             bool\n",
       "Traffic_Signal              bool\n",
       "Turning_Loop                bool\n",
       "Sunrise_Sunset            object\n",
       "Civil_Twilight            object\n",
       "Nautical_Twilight         object\n",
       "Astronomical_Twilight     object\n",
       "dtype: object"
      ]
     },
     "execution_count": 3,
     "metadata": {},
     "output_type": "execute_result"
    }
   ],
   "source": [
    "bd_us_acc.dtypes"
   ]
  },
  {
   "cell_type": "markdown",
   "metadata": {},
   "source": [
    "Revisamos que tipo de variable corresponde a cada una de las columnas."
   ]
  },
  {
   "cell_type": "code",
   "execution_count": 4,
   "metadata": {},
   "outputs": [
    {
     "data": {
      "text/html": [
       "<div>\n",
       "<style scoped>\n",
       "    .dataframe tbody tr th:only-of-type {\n",
       "        vertical-align: middle;\n",
       "    }\n",
       "\n",
       "    .dataframe tbody tr th {\n",
       "        vertical-align: top;\n",
       "    }\n",
       "\n",
       "    .dataframe thead th {\n",
       "        text-align: right;\n",
       "    }\n",
       "</style>\n",
       "<table border=\"1\" class=\"dataframe\">\n",
       "  <thead>\n",
       "    <tr style=\"text-align: right;\">\n",
       "      <th></th>\n",
       "      <th>Severity</th>\n",
       "      <th>Start_Time</th>\n",
       "      <th>End_Time</th>\n",
       "      <th>Street</th>\n",
       "      <th>City</th>\n",
       "      <th>County</th>\n",
       "      <th>State</th>\n",
       "      <th>Temperature(F)</th>\n",
       "      <th>Humidity(%)</th>\n",
       "      <th>Weather_Condition</th>\n",
       "    </tr>\n",
       "  </thead>\n",
       "  <tbody>\n",
       "    <tr>\n",
       "      <td>0</td>\n",
       "      <td>3</td>\n",
       "      <td>2016-02-08 05:46:00</td>\n",
       "      <td>2016-02-08 11:00:00</td>\n",
       "      <td>I-70 E</td>\n",
       "      <td>Dayton</td>\n",
       "      <td>Montgomery</td>\n",
       "      <td>OH</td>\n",
       "      <td>36.9</td>\n",
       "      <td>91.0</td>\n",
       "      <td>Light Rain</td>\n",
       "    </tr>\n",
       "    <tr>\n",
       "      <td>1</td>\n",
       "      <td>2</td>\n",
       "      <td>2016-02-08 06:07:59</td>\n",
       "      <td>2016-02-08 06:37:59</td>\n",
       "      <td>Brice Rd</td>\n",
       "      <td>Reynoldsburg</td>\n",
       "      <td>Franklin</td>\n",
       "      <td>OH</td>\n",
       "      <td>37.9</td>\n",
       "      <td>100.0</td>\n",
       "      <td>Light Rain</td>\n",
       "    </tr>\n",
       "    <tr>\n",
       "      <td>2</td>\n",
       "      <td>2</td>\n",
       "      <td>2016-02-08 06:49:27</td>\n",
       "      <td>2016-02-08 07:19:27</td>\n",
       "      <td>State Route 32</td>\n",
       "      <td>Williamsburg</td>\n",
       "      <td>Clermont</td>\n",
       "      <td>OH</td>\n",
       "      <td>36.0</td>\n",
       "      <td>100.0</td>\n",
       "      <td>Overcast</td>\n",
       "    </tr>\n",
       "    <tr>\n",
       "      <td>3</td>\n",
       "      <td>3</td>\n",
       "      <td>2016-02-08 07:23:34</td>\n",
       "      <td>2016-02-08 07:53:34</td>\n",
       "      <td>I-75 S</td>\n",
       "      <td>Dayton</td>\n",
       "      <td>Montgomery</td>\n",
       "      <td>OH</td>\n",
       "      <td>35.1</td>\n",
       "      <td>96.0</td>\n",
       "      <td>Mostly Cloudy</td>\n",
       "    </tr>\n",
       "    <tr>\n",
       "      <td>4</td>\n",
       "      <td>2</td>\n",
       "      <td>2016-02-08 07:39:07</td>\n",
       "      <td>2016-02-08 08:09:07</td>\n",
       "      <td>Miamisburg Centerville Rd</td>\n",
       "      <td>Dayton</td>\n",
       "      <td>Montgomery</td>\n",
       "      <td>OH</td>\n",
       "      <td>36.0</td>\n",
       "      <td>89.0</td>\n",
       "      <td>Mostly Cloudy</td>\n",
       "    </tr>\n",
       "  </tbody>\n",
       "</table>\n",
       "</div>"
      ],
      "text/plain": [
       "   Severity           Start_Time             End_Time  \\\n",
       "0         3  2016-02-08 05:46:00  2016-02-08 11:00:00   \n",
       "1         2  2016-02-08 06:07:59  2016-02-08 06:37:59   \n",
       "2         2  2016-02-08 06:49:27  2016-02-08 07:19:27   \n",
       "3         3  2016-02-08 07:23:34  2016-02-08 07:53:34   \n",
       "4         2  2016-02-08 07:39:07  2016-02-08 08:09:07   \n",
       "\n",
       "                      Street          City      County State  Temperature(F)  \\\n",
       "0                     I-70 E        Dayton  Montgomery    OH            36.9   \n",
       "1                   Brice Rd  Reynoldsburg    Franklin    OH            37.9   \n",
       "2             State Route 32  Williamsburg    Clermont    OH            36.0   \n",
       "3                     I-75 S        Dayton  Montgomery    OH            35.1   \n",
       "4  Miamisburg Centerville Rd        Dayton  Montgomery    OH            36.0   \n",
       "\n",
       "   Humidity(%) Weather_Condition  \n",
       "0         91.0        Light Rain  \n",
       "1        100.0        Light Rain  \n",
       "2        100.0          Overcast  \n",
       "3         96.0     Mostly Cloudy  \n",
       "4         89.0     Mostly Cloudy  "
      ]
     },
     "execution_count": 4,
     "metadata": {},
     "output_type": "execute_result"
    }
   ],
   "source": [
    "basedatoslimpia=bd_us_acc.drop(['Source','TMC','ID','Start_Lat','Start_Lng','Wind_Chill(F)','End_Lat','End_Lng','Distance(mi)','Description','Number','Side','Country','Zipcode','Timezone','Airport_Code','Weather_Timestamp','Pressure(in)','Visibility(mi)','Wind_Direction','Wind_Speed(mph)','Precipitation(in)','Amenity','Bump','Crossing','Give_Way','Junction','No_Exit','Railway','Roundabout','Station','Stop','Traffic_Calming','Traffic_Signal','Turning_Loop','Sunrise_Sunset','Civil_Twilight','Nautical_Twilight','Astronomical_Twilight'],axis = 1 )\n",
    "basedatoslimpia.head(5)"
   ]
  },
  {
   "cell_type": "markdown",
   "metadata": {},
   "source": [
    "Limpiamos la base de datos para trabajar solamente con las columnas que nos interesan."
   ]
  },
  {
   "cell_type": "code",
   "execution_count": 5,
   "metadata": {},
   "outputs": [
    {
     "data": {
      "text/plain": [
       "Severity                 0\n",
       "Start_Time               0\n",
       "End_Time                 0\n",
       "Street                   0\n",
       "City                    83\n",
       "County                   0\n",
       "State                    0\n",
       "Temperature(F)       56063\n",
       "Humidity(%)          59173\n",
       "Weather_Condition    65932\n",
       "dtype: int64"
      ]
     },
     "execution_count": 5,
     "metadata": {},
     "output_type": "execute_result"
    }
   ],
   "source": [
    "basedatoslimpia.isnull().sum()"
   ]
  },
  {
   "cell_type": "markdown",
   "metadata": {},
   "source": [
    "Con esto vemos si nuestra base cuenta con NAs. En nuestras ultimas 3 columnas si contamos con muchos NAs, pero comparado con la cantidad de registros que hay en la base de datos, no afecta tanto quitarlos."
   ]
  },
  {
   "cell_type": "code",
   "execution_count": 6,
   "metadata": {},
   "outputs": [
    {
     "data": {
      "text/html": [
       "<div>\n",
       "<style scoped>\n",
       "    .dataframe tbody tr th:only-of-type {\n",
       "        vertical-align: middle;\n",
       "    }\n",
       "\n",
       "    .dataframe tbody tr th {\n",
       "        vertical-align: top;\n",
       "    }\n",
       "\n",
       "    .dataframe thead th {\n",
       "        text-align: right;\n",
       "    }\n",
       "</style>\n",
       "<table border=\"1\" class=\"dataframe\">\n",
       "  <thead>\n",
       "    <tr style=\"text-align: right;\">\n",
       "      <th></th>\n",
       "      <th>Severity</th>\n",
       "      <th>Start_Time</th>\n",
       "      <th>End_Time</th>\n",
       "      <th>Street</th>\n",
       "      <th>City</th>\n",
       "      <th>County</th>\n",
       "      <th>State</th>\n",
       "      <th>Temperature(F)</th>\n",
       "      <th>Humidity(%)</th>\n",
       "      <th>Weather_Condition</th>\n",
       "    </tr>\n",
       "  </thead>\n",
       "  <tbody>\n",
       "    <tr>\n",
       "      <td>0</td>\n",
       "      <td>3</td>\n",
       "      <td>2016-02-08 05:46:00</td>\n",
       "      <td>2016-02-08 11:00:00</td>\n",
       "      <td>I-70 E</td>\n",
       "      <td>Dayton</td>\n",
       "      <td>Montgomery</td>\n",
       "      <td>OH</td>\n",
       "      <td>36.9</td>\n",
       "      <td>91.0</td>\n",
       "      <td>Light Rain</td>\n",
       "    </tr>\n",
       "    <tr>\n",
       "      <td>1</td>\n",
       "      <td>2</td>\n",
       "      <td>2016-02-08 06:07:59</td>\n",
       "      <td>2016-02-08 06:37:59</td>\n",
       "      <td>Brice Rd</td>\n",
       "      <td>Reynoldsburg</td>\n",
       "      <td>Franklin</td>\n",
       "      <td>OH</td>\n",
       "      <td>37.9</td>\n",
       "      <td>100.0</td>\n",
       "      <td>Light Rain</td>\n",
       "    </tr>\n",
       "    <tr>\n",
       "      <td>2</td>\n",
       "      <td>2</td>\n",
       "      <td>2016-02-08 06:49:27</td>\n",
       "      <td>2016-02-08 07:19:27</td>\n",
       "      <td>State Route 32</td>\n",
       "      <td>Williamsburg</td>\n",
       "      <td>Clermont</td>\n",
       "      <td>OH</td>\n",
       "      <td>36.0</td>\n",
       "      <td>100.0</td>\n",
       "      <td>Overcast</td>\n",
       "    </tr>\n",
       "    <tr>\n",
       "      <td>3</td>\n",
       "      <td>3</td>\n",
       "      <td>2016-02-08 07:23:34</td>\n",
       "      <td>2016-02-08 07:53:34</td>\n",
       "      <td>I-75 S</td>\n",
       "      <td>Dayton</td>\n",
       "      <td>Montgomery</td>\n",
       "      <td>OH</td>\n",
       "      <td>35.1</td>\n",
       "      <td>96.0</td>\n",
       "      <td>Mostly Cloudy</td>\n",
       "    </tr>\n",
       "    <tr>\n",
       "      <td>4</td>\n",
       "      <td>2</td>\n",
       "      <td>2016-02-08 07:39:07</td>\n",
       "      <td>2016-02-08 08:09:07</td>\n",
       "      <td>Miamisburg Centerville Rd</td>\n",
       "      <td>Dayton</td>\n",
       "      <td>Montgomery</td>\n",
       "      <td>OH</td>\n",
       "      <td>36.0</td>\n",
       "      <td>89.0</td>\n",
       "      <td>Mostly Cloudy</td>\n",
       "    </tr>\n",
       "  </tbody>\n",
       "</table>\n",
       "</div>"
      ],
      "text/plain": [
       "   Severity           Start_Time             End_Time  \\\n",
       "0         3  2016-02-08 05:46:00  2016-02-08 11:00:00   \n",
       "1         2  2016-02-08 06:07:59  2016-02-08 06:37:59   \n",
       "2         2  2016-02-08 06:49:27  2016-02-08 07:19:27   \n",
       "3         3  2016-02-08 07:23:34  2016-02-08 07:53:34   \n",
       "4         2  2016-02-08 07:39:07  2016-02-08 08:09:07   \n",
       "\n",
       "                      Street          City      County State  Temperature(F)  \\\n",
       "0                     I-70 E        Dayton  Montgomery    OH            36.9   \n",
       "1                   Brice Rd  Reynoldsburg    Franklin    OH            37.9   \n",
       "2             State Route 32  Williamsburg    Clermont    OH            36.0   \n",
       "3                     I-75 S        Dayton  Montgomery    OH            35.1   \n",
       "4  Miamisburg Centerville Rd        Dayton  Montgomery    OH            36.0   \n",
       "\n",
       "   Humidity(%) Weather_Condition  \n",
       "0         91.0        Light Rain  \n",
       "1        100.0        Light Rain  \n",
       "2        100.0          Overcast  \n",
       "3         96.0     Mostly Cloudy  \n",
       "4         89.0     Mostly Cloudy  "
      ]
     },
     "execution_count": 6,
     "metadata": {},
     "output_type": "execute_result"
    }
   ],
   "source": [
    "basedatosfinal=basedatoslimpia.dropna()\n",
    "basedatosfinal.head(5)"
   ]
  },
  {
   "cell_type": "markdown",
   "metadata": {},
   "source": [
    "Con esto nos aseguramos que nuestra base no cuente con NAs. Esto hara que nuestro análisis de los datos sea mas sencillo y preciso."
   ]
  },
  {
   "cell_type": "code",
   "execution_count": 7,
   "metadata": {},
   "outputs": [
    {
     "data": {
      "text/html": [
       "<div>\n",
       "<style scoped>\n",
       "    .dataframe tbody tr th:only-of-type {\n",
       "        vertical-align: middle;\n",
       "    }\n",
       "\n",
       "    .dataframe tbody tr th {\n",
       "        vertical-align: top;\n",
       "    }\n",
       "\n",
       "    .dataframe thead th {\n",
       "        text-align: right;\n",
       "    }\n",
       "</style>\n",
       "<table border=\"1\" class=\"dataframe\">\n",
       "  <thead>\n",
       "    <tr style=\"text-align: right;\">\n",
       "      <th></th>\n",
       "      <th>Severidad</th>\n",
       "      <th>Inicio(tiempo)</th>\n",
       "      <th>Final(tiempo)</th>\n",
       "      <th>Calle</th>\n",
       "      <th>Ciudad</th>\n",
       "      <th>Condado</th>\n",
       "      <th>Estado</th>\n",
       "      <th>Temperatura(F)</th>\n",
       "      <th>Humedad(%)</th>\n",
       "      <th>Clima</th>\n",
       "    </tr>\n",
       "  </thead>\n",
       "  <tbody>\n",
       "    <tr>\n",
       "      <td>0</td>\n",
       "      <td>3</td>\n",
       "      <td>2016-02-08 05:46:00</td>\n",
       "      <td>2016-02-08 11:00:00</td>\n",
       "      <td>I-70 E</td>\n",
       "      <td>Dayton</td>\n",
       "      <td>Montgomery</td>\n",
       "      <td>OH</td>\n",
       "      <td>36.9</td>\n",
       "      <td>91.0</td>\n",
       "      <td>Light Rain</td>\n",
       "    </tr>\n",
       "    <tr>\n",
       "      <td>1</td>\n",
       "      <td>2</td>\n",
       "      <td>2016-02-08 06:07:59</td>\n",
       "      <td>2016-02-08 06:37:59</td>\n",
       "      <td>Brice Rd</td>\n",
       "      <td>Reynoldsburg</td>\n",
       "      <td>Franklin</td>\n",
       "      <td>OH</td>\n",
       "      <td>37.9</td>\n",
       "      <td>100.0</td>\n",
       "      <td>Light Rain</td>\n",
       "    </tr>\n",
       "    <tr>\n",
       "      <td>2</td>\n",
       "      <td>2</td>\n",
       "      <td>2016-02-08 06:49:27</td>\n",
       "      <td>2016-02-08 07:19:27</td>\n",
       "      <td>State Route 32</td>\n",
       "      <td>Williamsburg</td>\n",
       "      <td>Clermont</td>\n",
       "      <td>OH</td>\n",
       "      <td>36.0</td>\n",
       "      <td>100.0</td>\n",
       "      <td>Overcast</td>\n",
       "    </tr>\n",
       "    <tr>\n",
       "      <td>3</td>\n",
       "      <td>3</td>\n",
       "      <td>2016-02-08 07:23:34</td>\n",
       "      <td>2016-02-08 07:53:34</td>\n",
       "      <td>I-75 S</td>\n",
       "      <td>Dayton</td>\n",
       "      <td>Montgomery</td>\n",
       "      <td>OH</td>\n",
       "      <td>35.1</td>\n",
       "      <td>96.0</td>\n",
       "      <td>Mostly Cloudy</td>\n",
       "    </tr>\n",
       "    <tr>\n",
       "      <td>4</td>\n",
       "      <td>2</td>\n",
       "      <td>2016-02-08 07:39:07</td>\n",
       "      <td>2016-02-08 08:09:07</td>\n",
       "      <td>Miamisburg Centerville Rd</td>\n",
       "      <td>Dayton</td>\n",
       "      <td>Montgomery</td>\n",
       "      <td>OH</td>\n",
       "      <td>36.0</td>\n",
       "      <td>89.0</td>\n",
       "      <td>Mostly Cloudy</td>\n",
       "    </tr>\n",
       "  </tbody>\n",
       "</table>\n",
       "</div>"
      ],
      "text/plain": [
       "   Severidad       Inicio(tiempo)        Final(tiempo)  \\\n",
       "0          3  2016-02-08 05:46:00  2016-02-08 11:00:00   \n",
       "1          2  2016-02-08 06:07:59  2016-02-08 06:37:59   \n",
       "2          2  2016-02-08 06:49:27  2016-02-08 07:19:27   \n",
       "3          3  2016-02-08 07:23:34  2016-02-08 07:53:34   \n",
       "4          2  2016-02-08 07:39:07  2016-02-08 08:09:07   \n",
       "\n",
       "                       Calle        Ciudad     Condado Estado  Temperatura(F)  \\\n",
       "0                     I-70 E        Dayton  Montgomery     OH            36.9   \n",
       "1                   Brice Rd  Reynoldsburg    Franklin     OH            37.9   \n",
       "2             State Route 32  Williamsburg    Clermont     OH            36.0   \n",
       "3                     I-75 S        Dayton  Montgomery     OH            35.1   \n",
       "4  Miamisburg Centerville Rd        Dayton  Montgomery     OH            36.0   \n",
       "\n",
       "   Humedad(%)          Clima  \n",
       "0        91.0     Light Rain  \n",
       "1       100.0     Light Rain  \n",
       "2       100.0       Overcast  \n",
       "3        96.0  Mostly Cloudy  \n",
       "4        89.0  Mostly Cloudy  "
      ]
     },
     "execution_count": 7,
     "metadata": {},
     "output_type": "execute_result"
    }
   ],
   "source": [
    "basedatosfinal=basedatosfinal.rename(columns = {'Severity':'Severidad','Start_Time':'Inicio(tiempo)','End_Time':'Final(tiempo)','Street':'Calle','City':'Ciudad','County':'Condado','State':'Estado','Temperature(F)':'Temperatura(F)','Humidity(%)':'Humedad(%)','Weather_Condition':'Clima'})\n",
    "basedatosfinal.head(5)"
   ]
  },
  {
   "cell_type": "markdown",
   "metadata": {},
   "source": [
    "Con esto le damos el ultimo toque a nuestra base de datos para que solo nos traiga lo necesario."
   ]
  },
  {
   "cell_type": "code",
   "execution_count": 3,
   "metadata": {},
   "outputs": [
    {
     "data": {
      "text/html": [
       "<div>\n",
       "<style scoped>\n",
       "    .dataframe tbody tr th:only-of-type {\n",
       "        vertical-align: middle;\n",
       "    }\n",
       "\n",
       "    .dataframe tbody tr th {\n",
       "        vertical-align: top;\n",
       "    }\n",
       "\n",
       "    .dataframe thead th {\n",
       "        text-align: right;\n",
       "    }\n",
       "</style>\n",
       "<table border=\"1\" class=\"dataframe\">\n",
       "  <thead>\n",
       "    <tr style=\"text-align: right;\">\n",
       "      <th></th>\n",
       "      <th>Severidad</th>\n",
       "      <th>Inicio(tiempo)</th>\n",
       "      <th>Final(tiempo)</th>\n",
       "      <th>Calle</th>\n",
       "      <th>Ciudad</th>\n",
       "      <th>Condado</th>\n",
       "      <th>Estado</th>\n",
       "      <th>Temperatura(F)</th>\n",
       "      <th>Humedad(%)</th>\n",
       "      <th>Clima</th>\n",
       "    </tr>\n",
       "  </thead>\n",
       "  <tbody>\n",
       "    <tr>\n",
       "      <td>0</td>\n",
       "      <td>3</td>\n",
       "      <td>2016-02-08 05:46:00</td>\n",
       "      <td>2016-02-08 11:00:00</td>\n",
       "      <td>I-70 E</td>\n",
       "      <td>Dayton</td>\n",
       "      <td>Montgomery</td>\n",
       "      <td>OH</td>\n",
       "      <td>36.9</td>\n",
       "      <td>91.0</td>\n",
       "      <td>Light Rain</td>\n",
       "    </tr>\n",
       "    <tr>\n",
       "      <td>1</td>\n",
       "      <td>2</td>\n",
       "      <td>2016-02-08 06:07:59</td>\n",
       "      <td>2016-02-08 06:37:59</td>\n",
       "      <td>Brice Rd</td>\n",
       "      <td>Reynoldsburg</td>\n",
       "      <td>Franklin</td>\n",
       "      <td>OH</td>\n",
       "      <td>37.9</td>\n",
       "      <td>100.0</td>\n",
       "      <td>Light Rain</td>\n",
       "    </tr>\n",
       "    <tr>\n",
       "      <td>2</td>\n",
       "      <td>2</td>\n",
       "      <td>2016-02-08 06:49:27</td>\n",
       "      <td>2016-02-08 07:19:27</td>\n",
       "      <td>State Route 32</td>\n",
       "      <td>Williamsburg</td>\n",
       "      <td>Clermont</td>\n",
       "      <td>OH</td>\n",
       "      <td>36.0</td>\n",
       "      <td>100.0</td>\n",
       "      <td>Overcast</td>\n",
       "    </tr>\n",
       "    <tr>\n",
       "      <td>3</td>\n",
       "      <td>3</td>\n",
       "      <td>2016-02-08 07:23:34</td>\n",
       "      <td>2016-02-08 07:53:34</td>\n",
       "      <td>I-75 S</td>\n",
       "      <td>Dayton</td>\n",
       "      <td>Montgomery</td>\n",
       "      <td>OH</td>\n",
       "      <td>35.1</td>\n",
       "      <td>96.0</td>\n",
       "      <td>Mostly Cloudy</td>\n",
       "    </tr>\n",
       "    <tr>\n",
       "      <td>4</td>\n",
       "      <td>2</td>\n",
       "      <td>2016-02-08 07:39:07</td>\n",
       "      <td>2016-02-08 08:09:07</td>\n",
       "      <td>Miamisburg Centerville Rd</td>\n",
       "      <td>Dayton</td>\n",
       "      <td>Montgomery</td>\n",
       "      <td>OH</td>\n",
       "      <td>36.0</td>\n",
       "      <td>89.0</td>\n",
       "      <td>Mostly Cloudy</td>\n",
       "    </tr>\n",
       "  </tbody>\n",
       "</table>\n",
       "</div>"
      ],
      "text/plain": [
       "   Severidad       Inicio(tiempo)        Final(tiempo)  \\\n",
       "0          3  2016-02-08 05:46:00  2016-02-08 11:00:00   \n",
       "1          2  2016-02-08 06:07:59  2016-02-08 06:37:59   \n",
       "2          2  2016-02-08 06:49:27  2016-02-08 07:19:27   \n",
       "3          3  2016-02-08 07:23:34  2016-02-08 07:53:34   \n",
       "4          2  2016-02-08 07:39:07  2016-02-08 08:09:07   \n",
       "\n",
       "                       Calle        Ciudad     Condado Estado  Temperatura(F)  \\\n",
       "0                     I-70 E        Dayton  Montgomery     OH            36.9   \n",
       "1                   Brice Rd  Reynoldsburg    Franklin     OH            37.9   \n",
       "2             State Route 32  Williamsburg    Clermont     OH            36.0   \n",
       "3                     I-75 S        Dayton  Montgomery     OH            35.1   \n",
       "4  Miamisburg Centerville Rd        Dayton  Montgomery     OH            36.0   \n",
       "\n",
       "   Humedad(%)          Clima  \n",
       "0        91.0     Light Rain  \n",
       "1       100.0     Light Rain  \n",
       "2       100.0       Overcast  \n",
       "3        96.0  Mostly Cloudy  \n",
       "4        89.0  Mostly Cloudy  "
      ]
     },
     "execution_count": 3,
     "metadata": {},
     "output_type": "execute_result"
    }
   ],
   "source": [
    "#header = ['Severidad', 'Inicio(tiempo)','Final(tiempo)','Calle','Ciudad','Condado','Estado','Temperatura(F)','Humedad(%)','Clima']\n",
    "#basedatosfinal.to_csv('basedatosproyectofinal.csv', columns = header)\n",
    "basedatosnew = pd.read_csv('basedatosproyectofinal.csv')\n",
    "basedatosnew.drop(basedatosnew.columns[[0]], axis=1, inplace=True)\n",
    "basedatosnew.head(5)"
   ]
  },
  {
   "cell_type": "markdown",
   "metadata": {},
   "source": [
    "Con esto creamos un nuevo archivo con la base de datos que utilizaremos para nuestro trabajo."
   ]
  },
  {
   "cell_type": "code",
   "execution_count": 4,
   "metadata": {},
   "outputs": [
    {
     "data": {
      "text/plain": [
       "Severidad           int64\n",
       "Inicio(tiempo)     object\n",
       "Final(tiempo)      object\n",
       "Calle              object\n",
       "Ciudad             object\n",
       "Condado            object\n",
       "Estado             object\n",
       "Temperatura(F)    float64\n",
       "Humedad(%)        float64\n",
       "Clima              object\n",
       "dtype: object"
      ]
     },
     "execution_count": 4,
     "metadata": {},
     "output_type": "execute_result"
    }
   ],
   "source": [
    "basedatosnew.dtypes"
   ]
  },
  {
   "cell_type": "markdown",
   "metadata": {},
   "source": [
    "Aqui le damos una ultima revisión a la base de datos, observamos que nos trae muchas columnas de tipo \"object\", lo cual no es bueno para nosotros ya que es un formato difícil de manejar, las transformaremos a tipo \"datetime\"."
   ]
  },
  {
   "cell_type": "code",
   "execution_count": 4,
   "metadata": {},
   "outputs": [
    {
     "data": {
      "text/plain": [
       "Severidad                   int64\n",
       "Inicio(tiempo)     datetime64[ns]\n",
       "Final(tiempo)      datetime64[ns]\n",
       "Calle                      object\n",
       "Ciudad                     object\n",
       "Condado                    object\n",
       "Estado                     object\n",
       "Temperatura(F)            float64\n",
       "Humedad(%)                float64\n",
       "Clima                      object\n",
       "Tiempo            timedelta64[ns]\n",
       "dtype: object"
      ]
     },
     "execution_count": 4,
     "metadata": {},
     "output_type": "execute_result"
    }
   ],
   "source": [
    "basedatosnew[\"Inicio(tiempo)\"]=pd.to_datetime(basedatosnew[\"Inicio(tiempo)\"])\n",
    "basedatosnew[\"Final(tiempo)\"]=pd.to_datetime(basedatosnew[\"Final(tiempo)\"])\n",
    "basedatosnew[\"Tiempo\"]=basedatosnew[\"Final(tiempo)\"]-basedatosnew[\"Inicio(tiempo)\"]\n",
    "basedatosnew.dtypes"
   ]
  },
  {
   "cell_type": "markdown",
   "metadata": {},
   "source": [
    "Ya con nuestra base de datos con los tipos de datos que queremos y las columnas que necesitamos con los nombres que nos gustan, agregaremos una ultima columna la duración de los accidentes simplemente restando el final menos el inicio del acc. para asi proceder a realizar un analisis estadístico de los datos. \n",
    "Antes de avanzar a esto veremos por ultima vez nuestra base de datos final para revisar que todo este en orden."
   ]
  },
  {
   "cell_type": "code",
   "execution_count": 6,
   "metadata": {},
   "outputs": [
    {
     "data": {
      "text/html": [
       "<div>\n",
       "<style scoped>\n",
       "    .dataframe tbody tr th:only-of-type {\n",
       "        vertical-align: middle;\n",
       "    }\n",
       "\n",
       "    .dataframe tbody tr th {\n",
       "        vertical-align: top;\n",
       "    }\n",
       "\n",
       "    .dataframe thead th {\n",
       "        text-align: right;\n",
       "    }\n",
       "</style>\n",
       "<table border=\"1\" class=\"dataframe\">\n",
       "  <thead>\n",
       "    <tr style=\"text-align: right;\">\n",
       "      <th></th>\n",
       "      <th>Severidad</th>\n",
       "      <th>Inicio(tiempo)</th>\n",
       "      <th>Final(tiempo)</th>\n",
       "      <th>Calle</th>\n",
       "      <th>Ciudad</th>\n",
       "      <th>Condado</th>\n",
       "      <th>Estado</th>\n",
       "      <th>Temperatura(F)</th>\n",
       "      <th>Humedad(%)</th>\n",
       "      <th>Clima</th>\n",
       "      <th>Tiempo</th>\n",
       "    </tr>\n",
       "  </thead>\n",
       "  <tbody>\n",
       "    <tr>\n",
       "      <td>0</td>\n",
       "      <td>3</td>\n",
       "      <td>2016-02-08 05:46:00</td>\n",
       "      <td>2016-02-08 11:00:00</td>\n",
       "      <td>I-70 E</td>\n",
       "      <td>Dayton</td>\n",
       "      <td>Montgomery</td>\n",
       "      <td>OH</td>\n",
       "      <td>36.9</td>\n",
       "      <td>91.0</td>\n",
       "      <td>Light Rain</td>\n",
       "      <td>05:14:00</td>\n",
       "    </tr>\n",
       "    <tr>\n",
       "      <td>1</td>\n",
       "      <td>2</td>\n",
       "      <td>2016-02-08 06:07:59</td>\n",
       "      <td>2016-02-08 06:37:59</td>\n",
       "      <td>Brice Rd</td>\n",
       "      <td>Reynoldsburg</td>\n",
       "      <td>Franklin</td>\n",
       "      <td>OH</td>\n",
       "      <td>37.9</td>\n",
       "      <td>100.0</td>\n",
       "      <td>Light Rain</td>\n",
       "      <td>00:30:00</td>\n",
       "    </tr>\n",
       "    <tr>\n",
       "      <td>2</td>\n",
       "      <td>2</td>\n",
       "      <td>2016-02-08 06:49:27</td>\n",
       "      <td>2016-02-08 07:19:27</td>\n",
       "      <td>State Route 32</td>\n",
       "      <td>Williamsburg</td>\n",
       "      <td>Clermont</td>\n",
       "      <td>OH</td>\n",
       "      <td>36.0</td>\n",
       "      <td>100.0</td>\n",
       "      <td>Overcast</td>\n",
       "      <td>00:30:00</td>\n",
       "    </tr>\n",
       "    <tr>\n",
       "      <td>3</td>\n",
       "      <td>3</td>\n",
       "      <td>2016-02-08 07:23:34</td>\n",
       "      <td>2016-02-08 07:53:34</td>\n",
       "      <td>I-75 S</td>\n",
       "      <td>Dayton</td>\n",
       "      <td>Montgomery</td>\n",
       "      <td>OH</td>\n",
       "      <td>35.1</td>\n",
       "      <td>96.0</td>\n",
       "      <td>Mostly Cloudy</td>\n",
       "      <td>00:30:00</td>\n",
       "    </tr>\n",
       "    <tr>\n",
       "      <td>4</td>\n",
       "      <td>2</td>\n",
       "      <td>2016-02-08 07:39:07</td>\n",
       "      <td>2016-02-08 08:09:07</td>\n",
       "      <td>Miamisburg Centerville Rd</td>\n",
       "      <td>Dayton</td>\n",
       "      <td>Montgomery</td>\n",
       "      <td>OH</td>\n",
       "      <td>36.0</td>\n",
       "      <td>89.0</td>\n",
       "      <td>Mostly Cloudy</td>\n",
       "      <td>00:30:00</td>\n",
       "    </tr>\n",
       "  </tbody>\n",
       "</table>\n",
       "</div>"
      ],
      "text/plain": [
       "   Severidad      Inicio(tiempo)       Final(tiempo)  \\\n",
       "0          3 2016-02-08 05:46:00 2016-02-08 11:00:00   \n",
       "1          2 2016-02-08 06:07:59 2016-02-08 06:37:59   \n",
       "2          2 2016-02-08 06:49:27 2016-02-08 07:19:27   \n",
       "3          3 2016-02-08 07:23:34 2016-02-08 07:53:34   \n",
       "4          2 2016-02-08 07:39:07 2016-02-08 08:09:07   \n",
       "\n",
       "                       Calle        Ciudad     Condado Estado  Temperatura(F)  \\\n",
       "0                     I-70 E        Dayton  Montgomery     OH            36.9   \n",
       "1                   Brice Rd  Reynoldsburg    Franklin     OH            37.9   \n",
       "2             State Route 32  Williamsburg    Clermont     OH            36.0   \n",
       "3                     I-75 S        Dayton  Montgomery     OH            35.1   \n",
       "4  Miamisburg Centerville Rd        Dayton  Montgomery     OH            36.0   \n",
       "\n",
       "   Humedad(%)          Clima   Tiempo  \n",
       "0        91.0     Light Rain 05:14:00  \n",
       "1       100.0     Light Rain 00:30:00  \n",
       "2       100.0       Overcast 00:30:00  \n",
       "3        96.0  Mostly Cloudy 00:30:00  \n",
       "4        89.0  Mostly Cloudy 00:30:00  "
      ]
     },
     "execution_count": 6,
     "metadata": {},
     "output_type": "execute_result"
    }
   ],
   "source": [
    "basedatosnew.head(5)"
   ]
  },
  {
   "cell_type": "markdown",
   "metadata": {},
   "source": [
    "## 2. Empezamos a trabajar con estadística básica de los datos"
   ]
  },
  {
   "cell_type": "code",
   "execution_count": 5,
   "metadata": {},
   "outputs": [],
   "source": [
    "import matplotlib.pyplot as plt\n",
    "import seaborn as sns"
   ]
  },
  {
   "cell_type": "markdown",
   "metadata": {},
   "source": [
    "Cargamos las librerias que utilizaremos en esta parte del trabajo."
   ]
  },
  {
   "cell_type": "markdown",
   "metadata": {},
   "source": [
    "---\n",
    "Al limpiar nuestra base de datos y conversar con el equipo, definimos que lo que queremos lograr con esta base es encontrar que variables independientes son mas significativas a la hora de predecir la severidad de un accidente.\n",
    "Para esto definimos a nuestra variable \"Severidad\" como nuestra variable dependiente.\n",
    "Nuestra hipotesis es que el tipo de clima y el estado pueden llegar a ser variables fuertemente significativas, por lo que nos enfocaremos a trabajar en ambas en este analisis con estadistica básica, para despues poder aplicar una técnica de regresión a nuestra base de datos o a una columna en especifica y corroborar nuestro análisis.\n",
    "\n",
    "Recordemos nuestras preguntas de interés:\n",
    "- ¿Qué variables o factores son aquellos que más afectan de forma significativa a la severidad de un accidente?\n",
    "- ¿En qué estado y en que condiciones climaticas se debe tener más precaución a la hora de manejar debido a que su severidad tiende a ser mayor?\n",
    "\n",
    "Como bonus, nos gustaria realizar una estadistica de cuanto tiempo promedio tarda el accidente dependiendo de su severidad."
   ]
  },
  {
   "cell_type": "code",
   "execution_count": 13,
   "metadata": {},
   "outputs": [
    {
     "name": "stdout",
     "output_type": "stream",
     "text": [
      "Cantidad de tipos de severidad: 4\n",
      "Tipos de severidad: [3 2 1 4]\n",
      "Cantidad de calles dif.:  157849\n",
      "Cantidad de ciudades únicas: 11501\n",
      "Ciudades únicas: ['Dayton' 'Reynoldsburg' 'Williamsburg' ... 'Paron' 'Clarksdale'\n",
      " 'American Fork-Pleasant Grove']\n",
      "Cantidad de condados únicos: 1703\n",
      "Condados únicos: ['Montgomery' 'Franklin' 'Clermont' ... 'Mellette' 'Hodgeman' 'Ness']\n",
      "Cantidad de estados únicos: 49\n",
      "Estados únicos: ['OH' 'WV' 'CA' 'FL' 'GA' 'SC' 'NE' 'IA' 'IL' 'MO' 'WI' 'IN' 'MI' 'NJ'\n",
      " 'NY' 'CT' 'MA' 'RI' 'NH' 'PA' 'KY' 'MD' 'VA' 'DC' 'DE' 'TX' 'WA' 'OR'\n",
      " 'AL' 'NC' 'MN' 'OK' 'LA' 'TN' 'UT' 'CO' 'AZ' 'NV' 'KS' 'MS' 'NM' 'ME'\n",
      " 'AR' 'WY' 'VT' 'ID' 'ND' 'MT' 'SD']\n",
      "Cantidad de climas únicos: 119\n",
      "Tipos de clima: ['Light Rain' 'Overcast' 'Mostly Cloudy' 'Rain' 'Light Snow' 'Haze'\n",
      " 'Scattered Clouds' 'Partly Cloudy' 'Clear' 'Snow'\n",
      " 'Light Freezing Drizzle' 'Light Drizzle' 'Fog' 'Shallow Fog' 'Heavy Rain'\n",
      " 'Light Freezing Rain' 'Cloudy' 'Drizzle' 'Light Rain Showers' 'Mist'\n",
      " 'Smoke' 'Patches of Fog' 'Light Freezing Fog' 'Light Haze'\n",
      " 'Light Thunderstorms and Rain' 'Thunderstorms and Rain' 'Fair'\n",
      " 'Volcanic Ash' 'Blowing Sand' 'Blowing Dust / Windy' 'Widespread Dust'\n",
      " 'Fair / Windy' 'Rain Showers' 'Mostly Cloudy / Windy'\n",
      " 'Light Rain / Windy' 'Hail' 'Heavy Drizzle' 'Showers in the Vicinity'\n",
      " 'Thunderstorm' 'Light Rain Shower' 'Light Rain with Thunder'\n",
      " 'Partly Cloudy / Windy' 'Thunder in the Vicinity' 'T-Storm'\n",
      " 'Heavy Thunderstorms and Rain' 'Thunder' 'Heavy T-Storm' 'Funnel Cloud'\n",
      " 'Heavy T-Storm / Windy' 'Blowing Snow' 'Light Thunderstorms and Snow'\n",
      " 'Heavy Snow' 'Low Drifting Snow' 'Light Ice Pellets' 'Ice Pellets'\n",
      " 'Squalls' 'N/A Precipitation' 'Cloudy / Windy' 'Light Fog' 'Snow Grains'\n",
      " 'Snow Showers' 'Heavy Thunderstorms and Snow' 'Rain / Windy'\n",
      " 'Heavy Rain / Windy' 'Heavy Ice Pellets' 'Light Snow / Windy'\n",
      " 'Heavy Freezing Rain' 'Small Hail' 'Heavy Rain Showers' 'Wintry Mix'\n",
      " 'Freezing Rain' 'Snow / Windy' 'Snow and Sleet' 'Sleet'\n",
      " 'Light Drizzle / Windy' 'Light Freezing Rain / Windy' 'Light Sleet'\n",
      " 'Heavy Sleet' 'Wintry Mix / Windy' 'Light Snow Shower' 'Drizzle and Fog'\n",
      " 'T-Storm / Windy' 'Heavy Snow / Windy' 'Fog / Windy'\n",
      " 'Light Snow and Sleet' 'Light Snow Grains' 'Thunder / Windy'\n",
      " 'Haze / Windy' 'Sand / Dust Whirlwinds' 'Blowing Dust'\n",
      " 'Light Rain Shower / Windy' 'Squalls / Windy' 'Drizzle / Windy'\n",
      " 'Partial Fog / Windy' 'Light Snow with Thunder' 'Blowing Snow / Windy'\n",
      " 'Partial Fog' 'Rain Shower' 'Widespread Dust / Windy'\n",
      " 'Sand / Dust Whirlwinds / Windy' 'Snow and Thunder'\n",
      " 'Light Snow and Sleet / Windy' 'Snow and Sleet / Windy'\n",
      " 'Heavy Snow with Thunder' 'Thunder / Wintry Mix / Windy'\n",
      " 'Light Snow Showers' 'Heavy Blowing Snow' 'Light Hail' 'Heavy Smoke'\n",
      " 'Heavy Thunderstorms with Small Hail' 'Light Thunderstorm'\n",
      " 'Heavy Freezing Drizzle' 'Light Blowing Snow' 'Thunderstorms and Snow'\n",
      " 'Smoke / Windy' 'Freezing Rain / Windy' 'Dust Whirls'\n",
      " 'Thunder and Hail / Windy' 'Tornado']\n"
     ]
    }
   ],
   "source": [
    "#Gpos por severidad\n",
    "print(\"Cantidad de tipos de severidad:\",len(basedatosnew.Severidad.unique()))\n",
    "print(\"Tipos de severidad:\",basedatosnew.Severidad.unique())\n",
    "#Por calles no porque son demasiadas\n",
    "print(\"Cantidad de calles dif.: \",len(basedatosnew.Calle.unique()))\n",
    "#Gpos por ciudades no porque son demasiados\n",
    "print(\"Cantidad de ciudades únicas:\",len(basedatosnew.Ciudad.unique()))\n",
    "print(\"Ciudades únicas:\",basedatosnew.Ciudad.unique())\n",
    "#Gpos por condados\n",
    "print(\"Cantidad de condados únicos:\",len(basedatosnew.Condado.unique()))\n",
    "print(\"Condados únicos:\",basedatosnew.Condado.unique())\n",
    "#Gpos por estado\n",
    "print(\"Cantidad de estados únicos:\",len(basedatosnew.Estado.unique()))\n",
    "print(\"Estados únicos:\",basedatosnew.Estado.unique())\n",
    "#Gpos por clima\n",
    "print(\"Cantidad de climas únicos:\",len(basedatosnew.Clima.unique()))\n",
    "print(\"Tipos de clima:\",basedatosnew.Clima.unique())\n"
   ]
  },
  {
   "cell_type": "markdown",
   "metadata": {},
   "source": [
    "Con el bloque de código anterior revisamos cada columna con sus valores únicos para tener una idea de dónde se pueden hacer clasificaciones y poder simplificar un poco el análisis. Observamos que la única columna que ofrece cierta facilidad a categorizarse es la columna de severidad pues sólo existen 4 niveles de severidad, mientras que hay muchos estados, ciudades, condados, calles e incluso tipos de clima."
   ]
  },
  {
   "cell_type": "code",
   "execution_count": 8,
   "metadata": {},
   "outputs": [
    {
     "data": {
      "text/plain": [
       "count    2.895462e+06\n",
       "mean     2.358364e+00\n",
       "std      5.403235e-01\n",
       "min      1.000000e+00\n",
       "25%      2.000000e+00\n",
       "50%      2.000000e+00\n",
       "75%      3.000000e+00\n",
       "max      4.000000e+00\n",
       "Name: Severidad, dtype: float64"
      ]
     },
     "execution_count": 8,
     "metadata": {},
     "output_type": "execute_result"
    }
   ],
   "source": [
    "basedatosnew[\"Severidad\"].describe()\n",
    "#basedatosnew[\"Severidad\"].mean()"
   ]
  },
  {
   "cell_type": "markdown",
   "metadata": {},
   "source": [
    "La función .describe() nos otorga la misma información que un grafico boxplot, con ella podemos ver que nuestra variable \"Severidad\" (la cual nosotros estamos tomando como variable dependiente) cuenta con una media de aproximadamente 2.35 de puntuación y una desviacion estandar aproximada de .54 de puntuación."
   ]
  },
  {
   "cell_type": "markdown",
   "metadata": {},
   "source": [
    "Trabajando con nuestras columnas de interés, veremos como se comporta la severidad con respecto al tipo de clima y al estado."
   ]
  },
  {
   "cell_type": "code",
   "execution_count": 9,
   "metadata": {},
   "outputs": [
    {
     "data": {
      "text/plain": [
       "<matplotlib.axes._subplots.AxesSubplot at 0x1cb5e46e4c8>"
      ]
     },
     "execution_count": 9,
     "metadata": {},
     "output_type": "execute_result"
    },
    {
     "data": {
      "image/png": "[encoded data removed]",
      "text/plain": [
       "<Figure size 432x288 with 1 Axes>"
      ]
     },
     "metadata": {
      "needs_background": "light"
     },
     "output_type": "display_data"
    }
   ],
   "source": [
    "(basedatosnew['Estado'].value_counts().head(10)/len(basedatosnew)).plot.bar()"
   ]
  },
  {
   "cell_type": "markdown",
   "metadata": {},
   "source": [
    "Esta gráfica nos muestra que California es el estado con mas accidentes de carros atribuyendose casi un 23% de ellos. Aunque no nos muestra la severidad que hay en el, es un excelente dato."
   ]
  },
  {
   "cell_type": "code",
   "execution_count": 10,
   "metadata": {},
   "outputs": [
    {
     "data": {
      "text/plain": [
       "<matplotlib.axes._subplots.AxesSubplot at 0x1cb5e544188>"
      ]
     },
     "execution_count": 10,
     "metadata": {},
     "output_type": "execute_result"
    },
    {
     "data": {
      "image/png": "[encoded data removed]",
      "text/plain": [
       "<Figure size 720x576 with 1 Axes>"
      ]
     },
     "metadata": {},
     "output_type": "display_data"
    }
   ],
   "source": [
    "plt.figure(figsize=(10, 8))\n",
    "basedatosnew['Estado'].value_counts().plot.pie(autopct='%1.1f%%')"
   ]
  },
  {
   "cell_type": "markdown",
   "metadata": {},
   "source": [
    "Con esta gráfica podemos ver de una forma mas clara el alto impacto que tiene CA en la cantidad de accidentes que ocurren en EU. Tambien con esta gráfica nos damos cuenta que al tomar solamente el top 5 de estados con mas numero de accidentes prácticamente estamos trabajando con la mitad de los datos."
   ]
  },
  {
   "cell_type": "code",
   "execution_count": 49,
   "metadata": {},
   "outputs": [
    {
     "data": {
      "text/plain": [
       "<matplotlib.axes._subplots.AxesSubplot at 0x1cb6793a188>"
      ]
     },
     "execution_count": 49,
     "metadata": {},
     "output_type": "execute_result"
    },
    {
     "data": {
      "image/png": "[encoded data removed]",
      "text/plain": [
       "<Figure size 432x288 with 1 Axes>"
      ]
     },
     "metadata": {
      "needs_background": "light"
     },
     "output_type": "display_data"
    }
   ],
   "source": [
    "(basedatosnew['Clima'].value_counts().head(10)/len(basedatosnew)).plot.bar(color='g')"
   ]
  },
  {
   "cell_type": "markdown",
   "metadata": {},
   "source": [
    "Esta gráfica nos muestra que el clima Templado/Claro es el estado del clima que cuenta con mas accidentes de carros atribuyendose casi un 28% de ellos. Aunque no nos muestra la severidad que hay en el, es un dato muy curioso, ya que uno normalmente creería que este estado del clima es óptimo para manejar."
   ]
  },
  {
   "cell_type": "code",
   "execution_count": 11,
   "metadata": {},
   "outputs": [
    {
     "data": {
      "text/plain": [
       "<matplotlib.axes._subplots.AxesSubplot at 0x1cb5e89abc8>"
      ]
     },
     "execution_count": 11,
     "metadata": {},
     "output_type": "execute_result"
    },
    {
     "data": {
      "image/png": "[encoded data removed]",
      "text/plain": [
       "<Figure size 720x576 with 1 Axes>"
      ]
     },
     "metadata": {},
     "output_type": "display_data"
    }
   ],
   "source": [
    "plt.figure(figsize=(10, 8))\n",
    "basedatosnew['Clima'].value_counts().plot.pie(autopct='%1.1f%%')"
   ]
  },
  {
   "cell_type": "markdown",
   "metadata": {},
   "source": [
    "Con esta gráfica podemos ver de una forma mas clara el alto impacto que tiene el tipo de clima 'Clear' en la cantidad de accidentes que ocurren en EU. También con esta gráfica nos damos cuenta que al tomar solamente el top 5 de tipos de clima con mayor cantidad de accidentes prácticamente estamos trabajando con tres cuartas partes de los datos."
   ]
  },
  {
   "cell_type": "markdown",
   "metadata": {},
   "source": [
    "---\n",
    "Si bien a nosotros lo que nos interesa es ver como se comporta la severidad dependiendo del Estado o dependiendo de el tipo de clima, esta información nos resulta muy valiosa para en un final comparar si el hecho de que un estado se encuentre en el top 5 de los estados con mayor numero de accidentes lo vuelve un estado con alto nivel de severidad en sus accidentes o son hecho que no van de la mano. El mismo caso aplica para el tipo de clima."
   ]
  },
  {
   "cell_type": "code",
   "execution_count": null,
   "metadata": {},
   "outputs": [],
   "source": [
    "sns.jointpot()"
   ]
  },
  {
   "cell_type": "code",
   "execution_count": 17,
   "metadata": {},
   "outputs": [
    {
     "name": "stdout",
     "output_type": "stream",
     "text": [
      "Fecha menor de incio:  2016-02-08 00:37:08\n",
      "Fecha mayor de incio: 2019-12-31 23:56:02\n",
      "Duración promedio del accidente:  0 days 01:57:33.790847\n"
     ]
    }
   ],
   "source": [
    "print(\"Fecha menor de incio: \",basedatosnew[\"Inicio(tiempo)\"].min())\n",
    "print(\"Fecha mayor de incio:\",basedatosnew[\"Inicio(tiempo)\"].max())\n",
    "\n",
    "print(\"Duración promedio del accidente: \",(basedatosnew[\"Final(tiempo)\"]-basedatosnew[\"Inicio(tiempo)\"]).mean())"
   ]
  },
  {
   "cell_type": "markdown",
   "metadata": {},
   "source": [
    "Con estos comandos podemos observar que nuestra base tiene informacion de casi 4 años de accidentes que ocurrieron en los Estados Unidos, por otra parte, se nos muestra que el promedio de tiempo que tarda un accidente es de casi 2 horas. Impresionante, ¿No lo creen?"
   ]
  },
  {
   "cell_type": "markdown",
   "metadata": {},
   "source": [
    "--- \n",
    "Antes de aplicarle una técnica de minería de datos a nuestra base, daremos unas estadisticas básicas de el resto de las columnas para darnos una idea de los datos con los que estaremos trabajando"
   ]
  },
  {
   "cell_type": "code",
   "execution_count": 18,
   "metadata": {},
   "outputs": [
    {
     "data": {
      "text/plain": [
       "62.38475825273901"
      ]
     },
     "execution_count": 18,
     "metadata": {},
     "output_type": "execute_result"
    }
   ],
   "source": [
    "basedatosnew[\"Temperatura(F)\"].mean()"
   ]
  },
  {
   "cell_type": "code",
   "execution_count": 19,
   "metadata": {},
   "outputs": [
    {
     "data": {
      "text/plain": [
       "count    2.895462e+06\n",
       "mean     6.238476e+01\n",
       "std      1.877447e+01\n",
       "min     -3.280000e+01\n",
       "25%      5.000000e+01\n",
       "50%      6.440000e+01\n",
       "75%      7.600000e+01\n",
       "max      1.706000e+02\n",
       "Name: Temperatura(F), dtype: float64"
      ]
     },
     "execution_count": 19,
     "metadata": {},
     "output_type": "execute_result"
    }
   ],
   "source": [
    "basedatosnew[\"Temperatura(F)\"].describe()"
   ]
  },
  {
   "cell_type": "code",
   "execution_count": 20,
   "metadata": {},
   "outputs": [
    {
     "data": {
      "text/plain": [
       "65.40710221719367"
      ]
     },
     "execution_count": 20,
     "metadata": {},
     "output_type": "execute_result"
    }
   ],
   "source": [
    "basedatosnew[\"Humedad(%)\"].mean()"
   ]
  },
  {
   "cell_type": "code",
   "execution_count": 21,
   "metadata": {},
   "outputs": [
    {
     "data": {
      "text/plain": [
       "count    2.895462e+06\n",
       "mean     6.540710e+01\n",
       "std      2.255755e+01\n",
       "min      1.000000e+00\n",
       "25%      4.900000e+01\n",
       "50%      6.800000e+01\n",
       "75%      8.400000e+01\n",
       "max      1.000000e+02\n",
       "Name: Humedad(%), dtype: float64"
      ]
     },
     "execution_count": 21,
     "metadata": {},
     "output_type": "execute_result"
    }
   ],
   "source": [
    "basedatosnew[\"Humedad(%)\"].describe()"
   ]
  },
  {
   "cell_type": "markdown",
   "metadata": {},
   "source": [
    "En las anteriores líneas podemos observar la media para la temperatura en Farenheit y la humedad en porcentaje.\n",
    "Tambien usamos la función describe para observar los mínimos, máximos y demás información de los datos mencionados anteriormente."
   ]
  },
  {
   "cell_type": "markdown",
   "metadata": {},
   "source": [
    "---\n",
    "Comenzaremos a trabajar con la base de datos mediante una re-clasificación de la misma dependiendo de el estado en el que ocurrió el accidente."
   ]
  },
  {
   "cell_type": "code",
   "execution_count": 6,
   "metadata": {},
   "outputs": [
    {
     "name": "stdout",
     "output_type": "stream",
     "text": [
      "49\n"
     ]
    },
    {
     "data": {
      "text/html": [
       "<div>\n",
       "<style scoped>\n",
       "    .dataframe tbody tr th:only-of-type {\n",
       "        vertical-align: middle;\n",
       "    }\n",
       "\n",
       "    .dataframe tbody tr th {\n",
       "        vertical-align: top;\n",
       "    }\n",
       "\n",
       "    .dataframe thead th {\n",
       "        text-align: right;\n",
       "    }\n",
       "</style>\n",
       "<table border=\"1\" class=\"dataframe\">\n",
       "  <thead>\n",
       "    <tr style=\"text-align: right;\">\n",
       "      <th></th>\n",
       "      <th>Severidad</th>\n",
       "      <th>Inicio(tiempo)</th>\n",
       "      <th>Final(tiempo)</th>\n",
       "      <th>Calle</th>\n",
       "      <th>Ciudad</th>\n",
       "      <th>Condado</th>\n",
       "      <th>Estado</th>\n",
       "      <th>Temperatura(F)</th>\n",
       "      <th>Humedad(%)</th>\n",
       "      <th>Clima</th>\n",
       "      <th>Tiempo</th>\n",
       "    </tr>\n",
       "  </thead>\n",
       "  <tbody>\n",
       "    <tr>\n",
       "      <td>202</td>\n",
       "      <td>3</td>\n",
       "      <td>2016-02-16 13:46:09</td>\n",
       "      <td>2016-02-16 14:16:09</td>\n",
       "      <td>WV-34</td>\n",
       "      <td>Hurricane</td>\n",
       "      <td>Putnam</td>\n",
       "      <td>WV</td>\n",
       "      <td>35.1</td>\n",
       "      <td>89.0</td>\n",
       "      <td>Overcast</td>\n",
       "      <td>00:30:00</td>\n",
       "    </tr>\n",
       "    <tr>\n",
       "      <td>363</td>\n",
       "      <td>2</td>\n",
       "      <td>2016-02-24 07:18:41</td>\n",
       "      <td>2016-02-24 08:03:41</td>\n",
       "      <td>US Highway 35</td>\n",
       "      <td>Fraziers Bottom</td>\n",
       "      <td>Putnam</td>\n",
       "      <td>WV</td>\n",
       "      <td>49.0</td>\n",
       "      <td>100.0</td>\n",
       "      <td>Cloudy</td>\n",
       "      <td>00:45:00</td>\n",
       "    </tr>\n",
       "    <tr>\n",
       "      <td>226062</td>\n",
       "      <td>2</td>\n",
       "      <td>2016-12-15 12:54:33</td>\n",
       "      <td>2016-12-15 13:24:04</td>\n",
       "      <td>W Stephen St</td>\n",
       "      <td>Martinsburg</td>\n",
       "      <td>Berkeley</td>\n",
       "      <td>WV</td>\n",
       "      <td>19.0</td>\n",
       "      <td>33.0</td>\n",
       "      <td>Mostly Cloudy</td>\n",
       "      <td>00:29:31</td>\n",
       "    </tr>\n",
       "    <tr>\n",
       "      <td>227107</td>\n",
       "      <td>2</td>\n",
       "      <td>2016-12-22 07:00:32</td>\n",
       "      <td>2016-12-22 07:45:16</td>\n",
       "      <td>Grade Rd</td>\n",
       "      <td>Falling Waters</td>\n",
       "      <td>Berkeley</td>\n",
       "      <td>WV</td>\n",
       "      <td>34.0</td>\n",
       "      <td>56.0</td>\n",
       "      <td>Clear</td>\n",
       "      <td>00:44:44</td>\n",
       "    </tr>\n",
       "    <tr>\n",
       "      <td>228266</td>\n",
       "      <td>2</td>\n",
       "      <td>2016-12-30 20:05:33</td>\n",
       "      <td>2016-12-30 20:35:14</td>\n",
       "      <td>Hammonds Mill Rd</td>\n",
       "      <td>Martinsburg</td>\n",
       "      <td>Berkeley</td>\n",
       "      <td>WV</td>\n",
       "      <td>32.0</td>\n",
       "      <td>52.0</td>\n",
       "      <td>Mostly Cloudy</td>\n",
       "      <td>00:29:41</td>\n",
       "    </tr>\n",
       "    <tr>\n",
       "      <td>...</td>\n",
       "      <td>...</td>\n",
       "      <td>...</td>\n",
       "      <td>...</td>\n",
       "      <td>...</td>\n",
       "      <td>...</td>\n",
       "      <td>...</td>\n",
       "      <td>...</td>\n",
       "      <td>...</td>\n",
       "      <td>...</td>\n",
       "      <td>...</td>\n",
       "      <td>...</td>\n",
       "    </tr>\n",
       "    <tr>\n",
       "      <td>2891556</td>\n",
       "      <td>2</td>\n",
       "      <td>2019-08-15 21:47:09</td>\n",
       "      <td>2019-08-15 22:15:21</td>\n",
       "      <td>I-64 E</td>\n",
       "      <td>South Charleston</td>\n",
       "      <td>Kanawha</td>\n",
       "      <td>WV</td>\n",
       "      <td>74.0</td>\n",
       "      <td>68.0</td>\n",
       "      <td>Fair</td>\n",
       "      <td>00:28:12</td>\n",
       "    </tr>\n",
       "    <tr>\n",
       "      <td>2891572</td>\n",
       "      <td>3</td>\n",
       "      <td>2019-08-15 11:38:13</td>\n",
       "      <td>2019-08-15 12:07:29</td>\n",
       "      <td>I-77 N</td>\n",
       "      <td>Mount Hope</td>\n",
       "      <td>Raleigh</td>\n",
       "      <td>WV</td>\n",
       "      <td>79.0</td>\n",
       "      <td>60.0</td>\n",
       "      <td>Partly Cloudy</td>\n",
       "      <td>00:29:16</td>\n",
       "    </tr>\n",
       "    <tr>\n",
       "      <td>2894595</td>\n",
       "      <td>2</td>\n",
       "      <td>2019-08-22 18:21:24</td>\n",
       "      <td>2019-08-22 18:50:06</td>\n",
       "      <td>I-64 W</td>\n",
       "      <td>Charleston</td>\n",
       "      <td>Kanawha</td>\n",
       "      <td>WV</td>\n",
       "      <td>88.0</td>\n",
       "      <td>43.0</td>\n",
       "      <td>Mostly Cloudy</td>\n",
       "      <td>00:28:42</td>\n",
       "    </tr>\n",
       "    <tr>\n",
       "      <td>2895081</td>\n",
       "      <td>2</td>\n",
       "      <td>2019-08-23 11:55:08</td>\n",
       "      <td>2019-08-23 12:23:27</td>\n",
       "      <td>Trace Fork Rd</td>\n",
       "      <td>Chapmanville</td>\n",
       "      <td>Logan</td>\n",
       "      <td>WV</td>\n",
       "      <td>75.0</td>\n",
       "      <td>87.0</td>\n",
       "      <td>Rain</td>\n",
       "      <td>00:28:19</td>\n",
       "    </tr>\n",
       "    <tr>\n",
       "      <td>2895083</td>\n",
       "      <td>2</td>\n",
       "      <td>2019-08-23 15:06:26</td>\n",
       "      <td>2019-08-23 15:35:24</td>\n",
       "      <td>I-77 N</td>\n",
       "      <td>Charleston</td>\n",
       "      <td>Kanawha</td>\n",
       "      <td>WV</td>\n",
       "      <td>68.0</td>\n",
       "      <td>76.0</td>\n",
       "      <td>Cloudy</td>\n",
       "      <td>00:28:58</td>\n",
       "    </tr>\n",
       "  </tbody>\n",
       "</table>\n",
       "<p>2235 rows × 11 columns</p>\n",
       "</div>"
      ],
      "text/plain": [
       "         Severidad      Inicio(tiempo)       Final(tiempo)             Calle  \\\n",
       "202              3 2016-02-16 13:46:09 2016-02-16 14:16:09             WV-34   \n",
       "363              2 2016-02-24 07:18:41 2016-02-24 08:03:41     US Highway 35   \n",
       "226062           2 2016-12-15 12:54:33 2016-12-15 13:24:04      W Stephen St   \n",
       "227107           2 2016-12-22 07:00:32 2016-12-22 07:45:16          Grade Rd   \n",
       "228266           2 2016-12-30 20:05:33 2016-12-30 20:35:14  Hammonds Mill Rd   \n",
       "...            ...                 ...                 ...               ...   \n",
       "2891556          2 2019-08-15 21:47:09 2019-08-15 22:15:21            I-64 E   \n",
       "2891572          3 2019-08-15 11:38:13 2019-08-15 12:07:29            I-77 N   \n",
       "2894595          2 2019-08-22 18:21:24 2019-08-22 18:50:06            I-64 W   \n",
       "2895081          2 2019-08-23 11:55:08 2019-08-23 12:23:27     Trace Fork Rd   \n",
       "2895083          2 2019-08-23 15:06:26 2019-08-23 15:35:24            I-77 N   \n",
       "\n",
       "                   Ciudad   Condado Estado  Temperatura(F)  Humedad(%)  \\\n",
       "202             Hurricane    Putnam     WV            35.1        89.0   \n",
       "363       Fraziers Bottom    Putnam     WV            49.0       100.0   \n",
       "226062        Martinsburg  Berkeley     WV            19.0        33.0   \n",
       "227107     Falling Waters  Berkeley     WV            34.0        56.0   \n",
       "228266        Martinsburg  Berkeley     WV            32.0        52.0   \n",
       "...                   ...       ...    ...             ...         ...   \n",
       "2891556  South Charleston   Kanawha     WV            74.0        68.0   \n",
       "2891572        Mount Hope   Raleigh     WV            79.0        60.0   \n",
       "2894595        Charleston   Kanawha     WV            88.0        43.0   \n",
       "2895081      Chapmanville     Logan     WV            75.0        87.0   \n",
       "2895083        Charleston   Kanawha     WV            68.0        76.0   \n",
       "\n",
       "                 Clima   Tiempo  \n",
       "202           Overcast 00:30:00  \n",
       "363             Cloudy 00:45:00  \n",
       "226062   Mostly Cloudy 00:29:31  \n",
       "227107           Clear 00:44:44  \n",
       "228266   Mostly Cloudy 00:29:41  \n",
       "...                ...      ...  \n",
       "2891556           Fair 00:28:12  \n",
       "2891572  Partly Cloudy 00:29:16  \n",
       "2894595  Mostly Cloudy 00:28:42  \n",
       "2895081           Rain 00:28:19  \n",
       "2895083         Cloudy 00:28:58  \n",
       "\n",
       "[2235 rows x 11 columns]"
      ]
     },
     "execution_count": 6,
     "metadata": {},
     "output_type": "execute_result"
    }
   ],
   "source": [
    "z=0\n",
    "cont=0\n",
    "base=[]\n",
    "for a in basedatosnew.Estado.unique():\n",
    "    z=z+1\n",
    "    cont=0\n",
    "    for b in basedatosnew.Estado:\n",
    "        if z>50:\n",
    "            break\n",
    "        if a==b and cont==0:\n",
    "            \n",
    "            cont=1\n",
    "            base.append(basedatosnew[basedatosnew[\"Estado\"]==a])\n",
    "print(z)\n",
    "base[1]"
   ]
  },
  {
   "cell_type": "markdown",
   "metadata": {},
   "source": [
    "Con este bloque de código lo que hacemos es generar una mini base de datos con la información de cada estado por separado."
   ]
  },
  {
   "cell_type": "code",
   "execution_count": 14,
   "metadata": {},
   "outputs": [
    {
     "name": "stdout",
     "output_type": "stream",
     "text": [
      "Estado: 193799     PA\n",
      "204491     PA\n",
      "210087     PA\n",
      "223552     PA\n",
      "223555     PA\n",
      "           ..\n",
      "2894012    PA\n",
      "2894048    PA\n",
      "2894051    PA\n",
      "2894598    PA\n",
      "2895077    PA\n",
      "Name: Estado, Length: 88737, dtype: object\n"
     ]
    },
    {
     "data": {
      "text/plain": [
       "Severidad                         2.3016\n",
       "Temperatura(F)                   55.1168\n",
       "Humedad(%)                       70.4501\n",
       "Tiempo            0 days 01:21:04.926006\n",
       "dtype: object"
      ]
     },
     "execution_count": 14,
     "metadata": {},
     "output_type": "execute_result"
    }
   ],
   "source": [
    "print(\"Estado:\",base[19].Estado)\n",
    "base[19].mean()"
   ]
  },
  {
   "cell_type": "code",
   "execution_count": 25,
   "metadata": {},
   "outputs": [
    {
     "data": {
      "text/plain": [
       "2.301599107474898"
      ]
     },
     "execution_count": 25,
     "metadata": {},
     "output_type": "execute_result"
    }
   ],
   "source": [
    "base[19].Severidad.mean()"
   ]
  },
  {
   "cell_type": "markdown",
   "metadata": {},
   "source": [
    "En esta parte sólamente hicimos pruebas para ver qué es lo que estábamos obteniendo"
   ]
  },
  {
   "cell_type": "code",
   "execution_count": 7,
   "metadata": {},
   "outputs": [
    {
     "name": "stdout",
     "output_type": "stream",
     "text": [
      "2.4812909514268697\n",
      "0    OH\n",
      "Name: Estado, dtype: object\n",
      "2.6058165548098433\n",
      "202    WV\n",
      "Name: Estado, dtype: object\n"
     ]
    }
   ],
   "source": [
    "sev=[]\n",
    "sev.append(base[0].Severidad.mean())\n",
    "sev.append(base[1].Severidad.mean())\n",
    "edo=[]\n",
    "edo.append(base[0].Estado.head(1))\n",
    "edo.append(base[1].Estado.head(1))\n",
    "print(sev[0])\n",
    "print(edo[0])\n",
    "print(sev[1])\n",
    "print(edo[1])"
   ]
  },
  {
   "cell_type": "code",
   "execution_count": 102,
   "metadata": {},
   "outputs": [
    {
     "data": {
      "text/html": [
       "<div>\n",
       "<style scoped>\n",
       "    .dataframe tbody tr th:only-of-type {\n",
       "        vertical-align: middle;\n",
       "    }\n",
       "\n",
       "    .dataframe tbody tr th {\n",
       "        vertical-align: top;\n",
       "    }\n",
       "\n",
       "    .dataframe thead th {\n",
       "        text-align: right;\n",
       "    }\n",
       "</style>\n",
       "<table border=\"1\" class=\"dataframe\">\n",
       "  <thead>\n",
       "    <tr style=\"text-align: right;\">\n",
       "      <th></th>\n",
       "      <th>Estado</th>\n",
       "      <th>Media</th>\n",
       "    </tr>\n",
       "  </thead>\n",
       "  <tbody>\n",
       "    <tr>\n",
       "      <td>0</td>\n",
       "      <td>OH</td>\n",
       "      <td>2.481291</td>\n",
       "    </tr>\n",
       "    <tr>\n",
       "      <td>1</td>\n",
       "      <td>WV</td>\n",
       "      <td>2.605817</td>\n",
       "    </tr>\n",
       "  </tbody>\n",
       "</table>\n",
       "</div>"
      ],
      "text/plain": [
       "  Estado     Media\n",
       "0     OH  2.481291\n",
       "1     WV  2.605817"
      ]
     },
     "execution_count": 102,
     "metadata": {},
     "output_type": "execute_result"
    }
   ],
   "source": [
    "severidad=pd.DataFrame({'Estado':edo[0],'Media':sev[0]})\n",
    "edo2=base[1].Estado.tolist()\n",
    "edo2[0]\n",
    "severidad1=severidad.append({'Estado':edo2[0],'Media':sev[1]},ignore_index=True)\n",
    "severidad.head()\n",
    "severidad1.head()\n"
   ]
  },
  {
   "cell_type": "code",
   "execution_count": 8,
   "metadata": {},
   "outputs": [
    {
     "data": {
      "text/html": [
       "<div>\n",
       "<style scoped>\n",
       "    .dataframe tbody tr th:only-of-type {\n",
       "        vertical-align: middle;\n",
       "    }\n",
       "\n",
       "    .dataframe tbody tr th {\n",
       "        vertical-align: top;\n",
       "    }\n",
       "\n",
       "    .dataframe thead th {\n",
       "        text-align: right;\n",
       "    }\n",
       "</style>\n",
       "<table border=\"1\" class=\"dataframe\">\n",
       "  <thead>\n",
       "    <tr style=\"text-align: right;\">\n",
       "      <th></th>\n",
       "      <th>Estado</th>\n",
       "      <th>Media</th>\n",
       "    </tr>\n",
       "  </thead>\n",
       "  <tbody>\n",
       "    <tr>\n",
       "      <td>0</td>\n",
       "      <td>OH</td>\n",
       "      <td>2.481291</td>\n",
       "    </tr>\n",
       "    <tr>\n",
       "      <td>1</td>\n",
       "      <td>WV</td>\n",
       "      <td>2.605817</td>\n",
       "    </tr>\n",
       "    <tr>\n",
       "      <td>2</td>\n",
       "      <td>CA</td>\n",
       "      <td>2.337541</td>\n",
       "    </tr>\n",
       "    <tr>\n",
       "      <td>3</td>\n",
       "      <td>FL</td>\n",
       "      <td>2.385245</td>\n",
       "    </tr>\n",
       "    <tr>\n",
       "      <td>4</td>\n",
       "      <td>GA</td>\n",
       "      <td>2.662703</td>\n",
       "    </tr>\n",
       "  </tbody>\n",
       "</table>\n",
       "</div>"
      ],
      "text/plain": [
       "  Estado     Media\n",
       "0     OH  2.481291\n",
       "1     WV  2.605817\n",
       "2     CA  2.337541\n",
       "3     FL  2.385245\n",
       "4     GA  2.662703"
      ]
     },
     "execution_count": 8,
     "metadata": {},
     "output_type": "execute_result"
    }
   ],
   "source": [
    "sev=[]\n",
    "edo=[]\n",
    "for pos in range(len(base)):\n",
    "    sev.append(base[pos].Severidad.mean())\n",
    "    edo.append(base[pos].Estado.head(1))\n",
    "    \n",
    "#print(\"severidad: \",sev, len(sev))\n",
    "#print(\"ESTADO: \",edo,len(edo))\n",
    "\n",
    "severidad=pd.DataFrame({'Estado':edo[0],'Media':sev[0]})\n",
    "for rien in range(len(base)):\n",
    "    if rien != 0:\n",
    "        edo2=base[rien].Estado.tolist()\n",
    "        severidad=severidad.append({'Estado':edo2[0],'Media':sev[rien]},ignore_index=True)\n",
    "        \n",
    "severidad.head(5)"
   ]
  },
  {
   "cell_type": "markdown",
   "metadata": {},
   "source": [
    "Con las instrucciones escritas anteriormente generamos una base de datos que contiene sólamente una vez cada estado y su severidad media"
   ]
  },
  {
   "cell_type": "code",
   "execution_count": 34,
   "metadata": {},
   "outputs": [
    {
     "name": "stdout",
     "output_type": "stream",
     "text": [
      "   Estado     Media\n",
      "48     SD  3.288136\n",
      "43     WY  3.115226\n",
      "42     AR  2.774331\n",
      "46     ND  2.756098\n",
      "47     MT  2.682635\n",
      "   Estado     Media\n",
      "6      NE  2.171176\n",
      "27     OR  2.164944\n",
      "29     NC  2.161963\n",
      "41     ME  2.125000\n",
      "31     OK  2.105640\n"
     ]
    }
   ],
   "source": [
    "print(severidad.sort_values('Media',ascending=False).head(5))\n",
    "print(severidad.sort_values('Media',ascending=False).tail(5))"
   ]
  },
  {
   "cell_type": "markdown",
   "metadata": {},
   "source": [
    "Aquí ordenamos los estados por severidad media, hasta arriba se muestran los que tienen severidad más alta.\n",
    "Con esta tabla podemos decir que los estados con severidad media más alta son:\n",
    "1. SD: South Dakota\n",
    "2. WY: Wyoming\n",
    "3. AR: Arkansas\n",
    "4. ND: North Dakota\n",
    "5. MT: Montana\n",
    "\n",
    "También podemos ver los estados con severidad media más baja que son:\n",
    "1. OK: Oklahoma\n",
    "2. ME: Maine\n",
    "3. NC: North Carolina\n",
    "4. OR: Oregon\n",
    "5. NE: Nebraska"
   ]
  },
  {
   "cell_type": "markdown",
   "metadata": {},
   "source": [
    "### Con la información que aquí tenemos, podemos resolver una parte de nuestra segunda pregunta de interés. pondremos un par de gráficos para que se vea mejor nuestra respuesta."
   ]
  },
  {
   "cell_type": "code",
   "execution_count": 48,
   "metadata": {},
   "outputs": [
    {
     "data": {
      "text/plain": [
       "<matplotlib.axes._subplots.AxesSubplot at 0x1cb05ef7808>"
      ]
     },
     "execution_count": 48,
     "metadata": {},
     "output_type": "execute_result"
    },
    {
     "data": {
      "image/png": "[encoded data removed]",
      "text/plain": [
       "<Figure size 432x288 with 1 Axes>"
      ]
     },
     "metadata": {
      "needs_background": "light"
     },
     "output_type": "display_data"
    },
    {
     "data": {
      "image/png": "[encoded data removed]",
      "text/plain": [
       "<Figure size 432x288 with 1 Axes>"
      ]
     },
     "metadata": {
      "needs_background": "light"
     },
     "output_type": "display_data"
    }
   ],
   "source": [
    "(basedatosnew['Estado'].value_counts().head(5)/len(basedatosnew)).plot.bar(x=\"Estado\")\n",
    "severidad.sort_values('Media',ascending=False).head(5).plot.bar(x=\"Estado\", color='r')"
   ]
  },
  {
   "cell_type": "markdown",
   "metadata": {},
   "source": [
    "Como podemos observar, de nuestro top 5 de estados con mayor número de accidentes, ninguno se encuentra dentro de nuestro top 5 de estados con mayor severidad promedio.\n",
    "Esto nos lleva a concluir que el hecho de que un estado cuente con mayor número de accidentes no significa que la severidad de estos sea proporcional."
   ]
  },
  {
   "cell_type": "markdown",
   "metadata": {},
   "source": [
    "---\n",
    "Comenzaremos a trabajar con la base de datos ahora mediante una re-clasificación de la misma dependiendo de el tipo de clima que estaba presente al momento del accidente."
   ]
  },
  {
   "cell_type": "code",
   "execution_count": 9,
   "metadata": {},
   "outputs": [
    {
     "name": "stdout",
     "output_type": "stream",
     "text": [
      "119\n"
     ]
    },
    {
     "data": {
      "text/html": [
       "<div>\n",
       "<style scoped>\n",
       "    .dataframe tbody tr th:only-of-type {\n",
       "        vertical-align: middle;\n",
       "    }\n",
       "\n",
       "    .dataframe tbody tr th {\n",
       "        vertical-align: top;\n",
       "    }\n",
       "\n",
       "    .dataframe thead th {\n",
       "        text-align: right;\n",
       "    }\n",
       "</style>\n",
       "<table border=\"1\" class=\"dataframe\">\n",
       "  <thead>\n",
       "    <tr style=\"text-align: right;\">\n",
       "      <th></th>\n",
       "      <th>Severidad</th>\n",
       "      <th>Inicio(tiempo)</th>\n",
       "      <th>Final(tiempo)</th>\n",
       "      <th>Calle</th>\n",
       "      <th>Ciudad</th>\n",
       "      <th>Condado</th>\n",
       "      <th>Estado</th>\n",
       "      <th>Temperatura(F)</th>\n",
       "      <th>Humedad(%)</th>\n",
       "      <th>Clima</th>\n",
       "      <th>Tiempo</th>\n",
       "    </tr>\n",
       "  </thead>\n",
       "  <tbody>\n",
       "    <tr>\n",
       "      <td>2</td>\n",
       "      <td>2</td>\n",
       "      <td>2016-02-08 06:49:27</td>\n",
       "      <td>2016-02-08 07:19:27</td>\n",
       "      <td>State Route 32</td>\n",
       "      <td>Williamsburg</td>\n",
       "      <td>Clermont</td>\n",
       "      <td>OH</td>\n",
       "      <td>36.0</td>\n",
       "      <td>100.0</td>\n",
       "      <td>Overcast</td>\n",
       "      <td>0 days 00:30:00</td>\n",
       "    </tr>\n",
       "    <tr>\n",
       "      <td>6</td>\n",
       "      <td>2</td>\n",
       "      <td>2016-02-08 07:59:35</td>\n",
       "      <td>2016-02-08 08:29:35</td>\n",
       "      <td>N Woodward Ave</td>\n",
       "      <td>Dayton</td>\n",
       "      <td>Montgomery</td>\n",
       "      <td>OH</td>\n",
       "      <td>34.0</td>\n",
       "      <td>100.0</td>\n",
       "      <td>Overcast</td>\n",
       "      <td>0 days 00:30:00</td>\n",
       "    </tr>\n",
       "    <tr>\n",
       "      <td>7</td>\n",
       "      <td>3</td>\n",
       "      <td>2016-02-08 07:59:58</td>\n",
       "      <td>2016-02-08 08:29:58</td>\n",
       "      <td>N Main St</td>\n",
       "      <td>Dayton</td>\n",
       "      <td>Montgomery</td>\n",
       "      <td>OH</td>\n",
       "      <td>34.0</td>\n",
       "      <td>100.0</td>\n",
       "      <td>Overcast</td>\n",
       "      <td>0 days 00:30:00</td>\n",
       "    </tr>\n",
       "    <tr>\n",
       "      <td>12</td>\n",
       "      <td>2</td>\n",
       "      <td>2016-02-08 08:36:34</td>\n",
       "      <td>2016-02-08 09:06:34</td>\n",
       "      <td>Watervliet Ave</td>\n",
       "      <td>Dayton</td>\n",
       "      <td>Montgomery</td>\n",
       "      <td>OH</td>\n",
       "      <td>33.8</td>\n",
       "      <td>100.0</td>\n",
       "      <td>Overcast</td>\n",
       "      <td>0 days 00:30:00</td>\n",
       "    </tr>\n",
       "    <tr>\n",
       "      <td>15</td>\n",
       "      <td>2</td>\n",
       "      <td>2016-02-08 08:43:20</td>\n",
       "      <td>2016-02-08 09:13:20</td>\n",
       "      <td>Glencoe Ave</td>\n",
       "      <td>Dayton</td>\n",
       "      <td>Montgomery</td>\n",
       "      <td>OH</td>\n",
       "      <td>33.8</td>\n",
       "      <td>100.0</td>\n",
       "      <td>Overcast</td>\n",
       "      <td>0 days 00:30:00</td>\n",
       "    </tr>\n",
       "    <tr>\n",
       "      <td>...</td>\n",
       "      <td>...</td>\n",
       "      <td>...</td>\n",
       "      <td>...</td>\n",
       "      <td>...</td>\n",
       "      <td>...</td>\n",
       "      <td>...</td>\n",
       "      <td>...</td>\n",
       "      <td>...</td>\n",
       "      <td>...</td>\n",
       "      <td>...</td>\n",
       "      <td>...</td>\n",
       "    </tr>\n",
       "    <tr>\n",
       "      <td>2822613</td>\n",
       "      <td>2</td>\n",
       "      <td>2017-08-30 06:18:10</td>\n",
       "      <td>2017-08-30 12:18:10</td>\n",
       "      <td>US-101 N</td>\n",
       "      <td>San Jose</td>\n",
       "      <td>Santa Clara</td>\n",
       "      <td>CA</td>\n",
       "      <td>60.1</td>\n",
       "      <td>86.0</td>\n",
       "      <td>Overcast</td>\n",
       "      <td>0 days 06:00:00</td>\n",
       "    </tr>\n",
       "    <tr>\n",
       "      <td>2822615</td>\n",
       "      <td>2</td>\n",
       "      <td>2017-08-30 08:38:25</td>\n",
       "      <td>2017-08-30 14:38:25</td>\n",
       "      <td>Kuhnle Ave</td>\n",
       "      <td>Oakland</td>\n",
       "      <td>Alameda</td>\n",
       "      <td>CA</td>\n",
       "      <td>57.9</td>\n",
       "      <td>93.0</td>\n",
       "      <td>Overcast</td>\n",
       "      <td>0 days 06:00:00</td>\n",
       "    </tr>\n",
       "    <tr>\n",
       "      <td>2836236</td>\n",
       "      <td>2</td>\n",
       "      <td>2019-02-11 10:54:15</td>\n",
       "      <td>2019-08-15 03:53:47</td>\n",
       "      <td>Oregon Coast Hwy</td>\n",
       "      <td>Brookings</td>\n",
       "      <td>Curry</td>\n",
       "      <td>OR</td>\n",
       "      <td>44.1</td>\n",
       "      <td>85.0</td>\n",
       "      <td>Overcast</td>\n",
       "      <td>184 days 16:59:32</td>\n",
       "    </tr>\n",
       "    <tr>\n",
       "      <td>2838953</td>\n",
       "      <td>2</td>\n",
       "      <td>2019-01-10 07:09:45</td>\n",
       "      <td>2019-05-15 11:12:00</td>\n",
       "      <td>US Highway 95</td>\n",
       "      <td>Jordan Valley</td>\n",
       "      <td>Malheur</td>\n",
       "      <td>OR</td>\n",
       "      <td>35.6</td>\n",
       "      <td>100.0</td>\n",
       "      <td>Overcast</td>\n",
       "      <td>125 days 04:02:15</td>\n",
       "    </tr>\n",
       "    <tr>\n",
       "      <td>2852767</td>\n",
       "      <td>2</td>\n",
       "      <td>2019-02-15 08:47:40</td>\n",
       "      <td>2019-06-05 08:45:00</td>\n",
       "      <td>Heppner Spray Hwy</td>\n",
       "      <td>Heppner</td>\n",
       "      <td>Morrow</td>\n",
       "      <td>OR</td>\n",
       "      <td>30.9</td>\n",
       "      <td>85.0</td>\n",
       "      <td>Overcast</td>\n",
       "      <td>109 days 23:57:20</td>\n",
       "    </tr>\n",
       "  </tbody>\n",
       "</table>\n",
       "<p>380966 rows × 11 columns</p>\n",
       "</div>"
      ],
      "text/plain": [
       "         Severidad      Inicio(tiempo)       Final(tiempo)  \\\n",
       "2                2 2016-02-08 06:49:27 2016-02-08 07:19:27   \n",
       "6                2 2016-02-08 07:59:35 2016-02-08 08:29:35   \n",
       "7                3 2016-02-08 07:59:58 2016-02-08 08:29:58   \n",
       "12               2 2016-02-08 08:36:34 2016-02-08 09:06:34   \n",
       "15               2 2016-02-08 08:43:20 2016-02-08 09:13:20   \n",
       "...            ...                 ...                 ...   \n",
       "2822613          2 2017-08-30 06:18:10 2017-08-30 12:18:10   \n",
       "2822615          2 2017-08-30 08:38:25 2017-08-30 14:38:25   \n",
       "2836236          2 2019-02-11 10:54:15 2019-08-15 03:53:47   \n",
       "2838953          2 2019-01-10 07:09:45 2019-05-15 11:12:00   \n",
       "2852767          2 2019-02-15 08:47:40 2019-06-05 08:45:00   \n",
       "\n",
       "                      Calle         Ciudad      Condado Estado  \\\n",
       "2            State Route 32   Williamsburg     Clermont     OH   \n",
       "6            N Woodward Ave         Dayton   Montgomery     OH   \n",
       "7                 N Main St         Dayton   Montgomery     OH   \n",
       "12           Watervliet Ave         Dayton   Montgomery     OH   \n",
       "15              Glencoe Ave         Dayton   Montgomery     OH   \n",
       "...                     ...            ...          ...    ...   \n",
       "2822613            US-101 N       San Jose  Santa Clara     CA   \n",
       "2822615          Kuhnle Ave        Oakland      Alameda     CA   \n",
       "2836236    Oregon Coast Hwy      Brookings        Curry     OR   \n",
       "2838953       US Highway 95  Jordan Valley      Malheur     OR   \n",
       "2852767   Heppner Spray Hwy        Heppner       Morrow     OR   \n",
       "\n",
       "         Temperatura(F)  Humedad(%)     Clima            Tiempo  \n",
       "2                  36.0       100.0  Overcast   0 days 00:30:00  \n",
       "6                  34.0       100.0  Overcast   0 days 00:30:00  \n",
       "7                  34.0       100.0  Overcast   0 days 00:30:00  \n",
       "12                 33.8       100.0  Overcast   0 days 00:30:00  \n",
       "15                 33.8       100.0  Overcast   0 days 00:30:00  \n",
       "...                 ...         ...       ...               ...  \n",
       "2822613            60.1        86.0  Overcast   0 days 06:00:00  \n",
       "2822615            57.9        93.0  Overcast   0 days 06:00:00  \n",
       "2836236            44.1        85.0  Overcast 184 days 16:59:32  \n",
       "2838953            35.6       100.0  Overcast 125 days 04:02:15  \n",
       "2852767            30.9        85.0  Overcast 109 days 23:57:20  \n",
       "\n",
       "[380966 rows x 11 columns]"
      ]
     },
     "execution_count": 9,
     "metadata": {},
     "output_type": "execute_result"
    }
   ],
   "source": [
    "z=0\n",
    "cont=0\n",
    "climas=[]\n",
    "for a in basedatosnew.Clima.unique():\n",
    "    z=z+1\n",
    "    cont=0\n",
    "    for b in basedatosnew.Clima:\n",
    "        if z>120:\n",
    "            break\n",
    "        if a==b and cont==0:\n",
    "            \n",
    "            cont=1\n",
    "            climas.append(basedatosnew[basedatosnew[\"Clima\"]==a])\n",
    "print(z)\n",
    "climas[1]"
   ]
  },
  {
   "cell_type": "markdown",
   "metadata": {},
   "source": [
    "Con este bloque de código lo que hacemos es generar una mini base de datos con la información de cada estado por separado."
   ]
  },
  {
   "cell_type": "code",
   "execution_count": 10,
   "metadata": {},
   "outputs": [
    {
     "name": "stdout",
     "output_type": "stream",
     "text": [
      "2.387287356485672\n",
      "0    Light Rain\n",
      "Name: Clima, dtype: object\n",
      "2.3852916008252705\n",
      "2    Overcast\n",
      "Name: Clima, dtype: object\n"
     ]
    }
   ],
   "source": [
    "sev2=[]\n",
    "sev2.append(climas[0].Severidad.mean())\n",
    "sev2.append(climas[1].Severidad.mean())\n",
    "clm=[]\n",
    "clm.append(climas[0].Clima.head(1))\n",
    "clm.append(climas[1].Clima.head(1))\n",
    "print(sev2[0])\n",
    "print(clm[0])\n",
    "print(sev2[1])\n",
    "print(clm[1])"
   ]
  },
  {
   "cell_type": "code",
   "execution_count": 11,
   "metadata": {},
   "outputs": [
    {
     "data": {
      "text/html": [
       "<div>\n",
       "<style scoped>\n",
       "    .dataframe tbody tr th:only-of-type {\n",
       "        vertical-align: middle;\n",
       "    }\n",
       "\n",
       "    .dataframe tbody tr th {\n",
       "        vertical-align: top;\n",
       "    }\n",
       "\n",
       "    .dataframe thead th {\n",
       "        text-align: right;\n",
       "    }\n",
       "</style>\n",
       "<table border=\"1\" class=\"dataframe\">\n",
       "  <thead>\n",
       "    <tr style=\"text-align: right;\">\n",
       "      <th></th>\n",
       "      <th>Clima</th>\n",
       "      <th>Media</th>\n",
       "    </tr>\n",
       "  </thead>\n",
       "  <tbody>\n",
       "    <tr>\n",
       "      <td>0</td>\n",
       "      <td>Light Rain</td>\n",
       "      <td>2.387287</td>\n",
       "    </tr>\n",
       "    <tr>\n",
       "      <td>1</td>\n",
       "      <td>Overcast</td>\n",
       "      <td>2.385292</td>\n",
       "    </tr>\n",
       "    <tr>\n",
       "      <td>2</td>\n",
       "      <td>Mostly Cloudy</td>\n",
       "      <td>2.366745</td>\n",
       "    </tr>\n",
       "    <tr>\n",
       "      <td>3</td>\n",
       "      <td>Rain</td>\n",
       "      <td>2.409466</td>\n",
       "    </tr>\n",
       "    <tr>\n",
       "      <td>4</td>\n",
       "      <td>Light Snow</td>\n",
       "      <td>2.463567</td>\n",
       "    </tr>\n",
       "  </tbody>\n",
       "</table>\n",
       "</div>"
      ],
      "text/plain": [
       "           Clima     Media\n",
       "0     Light Rain  2.387287\n",
       "1       Overcast  2.385292\n",
       "2  Mostly Cloudy  2.366745\n",
       "3           Rain  2.409466\n",
       "4     Light Snow  2.463567"
      ]
     },
     "execution_count": 11,
     "metadata": {},
     "output_type": "execute_result"
    }
   ],
   "source": [
    "sev2=[]\n",
    "clm=[]\n",
    "for pos in range(len(climas)):\n",
    "    sev2.append(climas[pos].Severidad.mean())\n",
    "    clm.append(climas[pos].Clima.head(1))\n",
    "    \n",
    "#print(\"severidad: \",sev, len(sev))\n",
    "#print(\"ESTADO: \",edo,len(edo))\n",
    "\n",
    "severidad2=pd.DataFrame({'Clima':clm[0],'Media':sev2[0]})\n",
    "for rien in range(len(climas)):\n",
    "    if rien != 0:\n",
    "        clm2=climas[rien].Clima.tolist()\n",
    "        severidad2=severidad2.append({'Clima':clm2[0],'Media':sev2[rien]},ignore_index=True)\n",
    "        \n",
    "severidad2.head(5)"
   ]
  },
  {
   "cell_type": "markdown",
   "metadata": {},
   "source": [
    "Con las instrucciones escritas anteriormente generamos una base de datos que contiene sólamente una vez cada tipo de clima y su severidad media."
   ]
  },
  {
   "cell_type": "code",
   "execution_count": 28,
   "metadata": {},
   "outputs": [
    {
     "data": {
      "text/html": [
       "<div>\n",
       "<style scoped>\n",
       "    .dataframe tbody tr th:only-of-type {\n",
       "        vertical-align: middle;\n",
       "    }\n",
       "\n",
       "    .dataframe tbody tr th {\n",
       "        vertical-align: top;\n",
       "    }\n",
       "\n",
       "    .dataframe thead th {\n",
       "        text-align: right;\n",
       "    }\n",
       "</style>\n",
       "<table border=\"1\" class=\"dataframe\">\n",
       "  <thead>\n",
       "    <tr style=\"text-align: right;\">\n",
       "      <th></th>\n",
       "      <th>Clima</th>\n",
       "      <th>Media</th>\n",
       "    </tr>\n",
       "  </thead>\n",
       "  <tbody>\n",
       "    <tr>\n",
       "      <td>115</td>\n",
       "      <td>Freezing Rain / Windy</td>\n",
       "      <td>4.000000</td>\n",
       "    </tr>\n",
       "    <tr>\n",
       "      <td>112</td>\n",
       "      <td>Light Blowing Snow</td>\n",
       "      <td>3.666667</td>\n",
       "    </tr>\n",
       "    <tr>\n",
       "      <td>104</td>\n",
       "      <td>Thunder / Wintry Mix / Windy</td>\n",
       "      <td>3.000000</td>\n",
       "    </tr>\n",
       "    <tr>\n",
       "      <td>28</td>\n",
       "      <td>Blowing Sand</td>\n",
       "      <td>3.000000</td>\n",
       "    </tr>\n",
       "    <tr>\n",
       "      <td>93</td>\n",
       "      <td>Partial Fog / Windy</td>\n",
       "      <td>3.000000</td>\n",
       "    </tr>\n",
       "    <tr>\n",
       "      <td>...</td>\n",
       "      <td>...</td>\n",
       "      <td>...</td>\n",
       "    </tr>\n",
       "    <tr>\n",
       "      <td>111</td>\n",
       "      <td>Heavy Freezing Drizzle</td>\n",
       "      <td>2.000000</td>\n",
       "    </tr>\n",
       "    <tr>\n",
       "      <td>108</td>\n",
       "      <td>Heavy Smoke</td>\n",
       "      <td>2.000000</td>\n",
       "    </tr>\n",
       "    <tr>\n",
       "      <td>99</td>\n",
       "      <td>Sand / Dust Whirlwinds / Windy</td>\n",
       "      <td>2.000000</td>\n",
       "    </tr>\n",
       "    <tr>\n",
       "      <td>79</td>\n",
       "      <td>Light Snow Shower</td>\n",
       "      <td>2.000000</td>\n",
       "    </tr>\n",
       "    <tr>\n",
       "      <td>118</td>\n",
       "      <td>Tornado</td>\n",
       "      <td>2.000000</td>\n",
       "    </tr>\n",
       "  </tbody>\n",
       "</table>\n",
       "<p>119 rows × 2 columns</p>\n",
       "</div>"
      ],
      "text/plain": [
       "                              Clima     Media\n",
       "115           Freezing Rain / Windy  4.000000\n",
       "112              Light Blowing Snow  3.666667\n",
       "104    Thunder / Wintry Mix / Windy  3.000000\n",
       "28                     Blowing Sand  3.000000\n",
       "93              Partial Fog / Windy  3.000000\n",
       "..                              ...       ...\n",
       "111          Heavy Freezing Drizzle  2.000000\n",
       "108                     Heavy Smoke  2.000000\n",
       "99   Sand / Dust Whirlwinds / Windy  2.000000\n",
       "79                Light Snow Shower  2.000000\n",
       "118                         Tornado  2.000000\n",
       "\n",
       "[119 rows x 2 columns]"
      ]
     },
     "execution_count": 28,
     "metadata": {},
     "output_type": "execute_result"
    }
   ],
   "source": [
    "severidad2.sort_values('Media',ascending=False)#.head(5)"
   ]
  },
  {
   "cell_type": "markdown",
   "metadata": {},
   "source": [
    "Aquí ordenamos los tipos de clima por su severidad media, hasta arriba van los que tienen severidad más alta.\n",
    "Con esta tabla podemos decir que los tipos de clima con severidad media más alta son:\n",
    "1. Freezing Rain/Windy\n",
    "2. Light Blowing Snow\n",
    "3. Thunder/Wintry Mix/Windy\n",
    "4. Blowing Sand\n",
    "5. Partial Fog/Windy\n",
    "\n",
    "También podemos ver los estados con severidad media más baja que son:\n",
    "1. Heavy Freezing Drizzle\n",
    "2. Heavy Smoke\n",
    "3. Sand/Dust Whirlinds/Windy\n",
    "4. Light Snow Shower\n",
    "5. Tornado"
   ]
  },
  {
   "cell_type": "markdown",
   "metadata": {},
   "source": [
    "### Con la información que aquí tenemos, podemos terminar de resolver nuestra segunda pregunta de interés. pondremos un par de gráficos para que se vea mejor nuestra respuesta."
   ]
  },
  {
   "cell_type": "code",
   "execution_count": 47,
   "metadata": {},
   "outputs": [
    {
     "data": {
      "text/plain": [
       "<matplotlib.axes._subplots.AxesSubplot at 0x1cb05e50848>"
      ]
     },
     "execution_count": 47,
     "metadata": {},
     "output_type": "execute_result"
    },
    {
     "data": {
      "image/png": "[encoded data removed]",
      "text/plain": [
       "<Figure size 432x288 with 1 Axes>"
      ]
     },
     "metadata": {
      "needs_background": "light"
     },
     "output_type": "display_data"
    },
    {
     "data": {
      "image/png": "[encoded data removed]",
      "text/plain": [
       "<Figure size 432x288 with 1 Axes>"
      ]
     },
     "metadata": {
      "needs_background": "light"
     },
     "output_type": "display_data"
    }
   ],
   "source": [
    "(basedatosnew['Clima'].value_counts().head(5)/len(basedatosnew)).plot.bar(x=\"Clima\", color='g')\n",
    "severidad2.sort_values('Media',ascending=False).head(5).plot.bar(x=\"Clima\", color='r')"
   ]
  },
  {
   "cell_type": "markdown",
   "metadata": {},
   "source": [
    "Como podemos observar, de nuestro top 5 de tipos de clima con mayor número de accidentes, ninguno se encuentra dentro de nuestro top 5 de tipos de clima con mayor severidad promedio.\n",
    "Esto nos lleva a concluir que el hecho de que un tipo de clima cuente con mayor número de accidentes no significa que la severidad de este sea proporcional."
   ]
  },
  {
   "cell_type": "markdown",
   "metadata": {},
   "source": [
    "---\n",
    "Seguimos realizando análisis de nuestros datos."
   ]
  },
  {
   "cell_type": "code",
   "execution_count": 13,
   "metadata": {},
   "outputs": [
    {
     "name": "stdout",
     "output_type": "stream",
     "text": [
      "Estado #1: SD\n"
     ]
    },
    {
     "data": {
      "text/plain": [
       "<matplotlib.axes._subplots.AxesSubplot at 0x1ef26278e08>"
      ]
     },
     "execution_count": 13,
     "metadata": {},
     "output_type": "execute_result"
    },
    {
     "data": {
      "image/png": "[encoded data removed]",
      "text/plain": [
       "<Figure size 432x288 with 1 Axes>"
      ]
     },
     "metadata": {
      "needs_background": "light"
     },
     "output_type": "display_data"
    }
   ],
   "source": [
    "print(\"Estado #1:\", severidad.Estado[48])\n",
    "base[48]['Severidad'].value_counts().plot.bar()"
   ]
  },
  {
   "cell_type": "code",
   "execution_count": 195,
   "metadata": {},
   "outputs": [
    {
     "data": {
      "text/plain": [
       "<matplotlib.axes._subplots.AxesSubplot at 0x1fc33c63f88>"
      ]
     },
     "execution_count": 195,
     "metadata": {},
     "output_type": "execute_result"
    },
    {
     "data": {
      "image/png": "[encoded data removed]",
      "text/plain": [
       "<Figure size 432x288 with 1 Axes>"
      ]
     },
     "metadata": {
      "needs_background": "light"
     },
     "output_type": "display_data"
    }
   ],
   "source": [
    "(base[48]['Severidad'].value_counts()/len(base[48])).plot.bar()"
   ]
  },
  {
   "cell_type": "markdown",
   "metadata": {},
   "source": [
    "Aquí podemos observar que South Dakota tiene en su mayoría, accidentes de severidad 4, con esto nos damos cuenta el por qué está en primer lugar en la severidad media. También vemos información parecida en la segunda gráfica, la diferencia es que la seguna está en porcentajes, con eso observamos que un poco más del 50% de los accidentes son de severidad 4."
   ]
  },
  {
   "cell_type": "code",
   "execution_count": 50,
   "metadata": {},
   "outputs": [
    {
     "data": {
      "text/plain": [
       "<matplotlib.axes._subplots.AxesSubplot at 0x1cb05f82c88>"
      ]
     },
     "execution_count": 50,
     "metadata": {},
     "output_type": "execute_result"
    },
    {
     "data": {
      "image/png": "[encoded data removed]",
      "text/plain": [
       "<Figure size 432x288 with 1 Axes>"
      ]
     },
     "metadata": {
      "needs_background": "light"
     },
     "output_type": "display_data"
    }
   ],
   "source": [
    "(base[48]['Clima'].value_counts()/len(base[48])).plot.bar(color='g')"
   ]
  },
  {
   "cell_type": "code",
   "execution_count": 51,
   "metadata": {},
   "outputs": [
    {
     "data": {
      "text/plain": [
       "<matplotlib.axes._subplots.AxesSubplot at 0x1cb06014cc8>"
      ]
     },
     "execution_count": 51,
     "metadata": {},
     "output_type": "execute_result"
    },
    {
     "data": {
      "image/png": "[encoded data removed]",
      "text/plain": [
       "<Figure size 432x288 with 1 Axes>"
      ]
     },
     "metadata": {
      "needs_background": "light"
     },
     "output_type": "display_data"
    }
   ],
   "source": [
    "base[48]['Clima'].value_counts().plot.bar(color='g')"
   ]
  },
  {
   "cell_type": "markdown",
   "metadata": {},
   "source": [
    "Con estas dos gráficas vemos que los climas donde más accidentes suelen ocurrir son cuando el clima esta despejado y nublado, lo graficamos tanto en valores absolutos como en porcentajes, podemos ver que con esos climas ocurren un poco más del 35% de los accidentes."
   ]
  },
  {
   "cell_type": "markdown",
   "metadata": {},
   "source": [
    "Por otro lado, el hecho de que en ninguna gráfica se usa la función head nos dice que la cantidad de accidentes en general en South Dakota son pocos, pero con severidades bastante altas. Lo que influye mucho en la posición con respecto a los demás estados."
   ]
  },
  {
   "cell_type": "code",
   "execution_count": 181,
   "metadata": {},
   "outputs": [
    {
     "name": "stdout",
     "output_type": "stream",
     "text": [
      "Estado #2: WY\n"
     ]
    },
    {
     "data": {
      "text/plain": [
       "<matplotlib.axes._subplots.AxesSubplot at 0x1fc32faf288>"
      ]
     },
     "execution_count": 181,
     "metadata": {},
     "output_type": "execute_result"
    },
    {
     "data": {
      "image/png": "[encoded data removed]",
      "text/plain": [
       "<Figure size 432x288 with 1 Axes>"
      ]
     },
     "metadata": {
      "needs_background": "light"
     },
     "output_type": "display_data"
    }
   ],
   "source": [
    "print(\"Estado #2:\",severidad.Estado[43])\n",
    "base[43]['Severidad'].value_counts().plot.bar()"
   ]
  },
  {
   "cell_type": "code",
   "execution_count": 194,
   "metadata": {},
   "outputs": [
    {
     "data": {
      "text/plain": [
       "<matplotlib.axes._subplots.AxesSubplot at 0x1fc33db9808>"
      ]
     },
     "execution_count": 194,
     "metadata": {},
     "output_type": "execute_result"
    },
    {
     "data": {
      "image/png": "[encoded data removed]",
      "text/plain": [
       "<Figure size 432x288 with 1 Axes>"
      ]
     },
     "metadata": {
      "needs_background": "light"
     },
     "output_type": "display_data"
    }
   ],
   "source": [
    "(base[43]['Severidad'].value_counts()/len(base[43])).plot.bar()"
   ]
  },
  {
   "cell_type": "markdown",
   "metadata": {},
   "source": [
    "El segundo lugar en severidad media lo ocupa Wyoming, con sus gráficas de barras para severidad observamos que tiene una gran cantidad de accidentes de severidad 4, pero comparado con SD, en porcentajes no representan tantos accidentes los de severidad máxima, pues también hay bastantes nivel 3, lo que provoca que el promedio de severidad baje."
   ]
  },
  {
   "cell_type": "code",
   "execution_count": 52,
   "metadata": {},
   "outputs": [
    {
     "data": {
      "text/plain": [
       "<matplotlib.axes._subplots.AxesSubplot at 0x1cb060c89c8>"
      ]
     },
     "execution_count": 52,
     "metadata": {},
     "output_type": "execute_result"
    },
    {
     "data": {
      "image/png": "[encoded data removed]",
      "text/plain": [
       "<Figure size 432x288 with 1 Axes>"
      ]
     },
     "metadata": {
      "needs_background": "light"
     },
     "output_type": "display_data"
    }
   ],
   "source": [
    "(base[43]['Clima'].value_counts().head(10)/len(base[43])).plot.bar(color='g')"
   ]
  },
  {
   "cell_type": "code",
   "execution_count": 53,
   "metadata": {},
   "outputs": [
    {
     "data": {
      "text/plain": [
       "<matplotlib.axes._subplots.AxesSubplot at 0x1cb06144ec8>"
      ]
     },
     "execution_count": 53,
     "metadata": {},
     "output_type": "execute_result"
    },
    {
     "data": {
      "image/png": "[encoded data removed]",
      "text/plain": [
       "<Figure size 432x288 with 1 Axes>"
      ]
     },
     "metadata": {
      "needs_background": "light"
     },
     "output_type": "display_data"
    }
   ],
   "source": [
    "base[43]['Clima'].value_counts().head(10).plot.bar(color='g')"
   ]
  },
  {
   "cell_type": "markdown",
   "metadata": {},
   "source": [
    "Al observar las gráficas de barras de los climas en los que ocurren los accidentes se puede observar que los dos climas principales son los mismos que en South Dakota, ésto tiene cierto sentido, considerando que estos estados son vecinos. La diferencia es que en el caso de Wyoming, los dos primeros climas representan el 45% aproximadamente."
   ]
  },
  {
   "cell_type": "markdown",
   "metadata": {},
   "source": [
    "También vale la pena observar que el número de accidentes en general en Wyoming es considerablemente mayor que en South Dakota y además hay mayor variedad de climas en los que hubo accidentes, por lo que en este caso decidimos utilizar la función head, para mostrar los 10 climas en los que se originaron más accidentes."
   ]
  },
  {
   "cell_type": "code",
   "execution_count": 190,
   "metadata": {},
   "outputs": [
    {
     "name": "stdout",
     "output_type": "stream",
     "text": [
      "Estado #3: AR\n"
     ]
    },
    {
     "data": {
      "text/plain": [
       "<matplotlib.axes._subplots.AxesSubplot at 0x1fc33a0eac8>"
      ]
     },
     "execution_count": 190,
     "metadata": {},
     "output_type": "execute_result"
    },
    {
     "data": {
      "image/png": "[encoded data removed]",
      "text/plain": [
       "<Figure size 432x288 with 1 Axes>"
      ]
     },
     "metadata": {
      "needs_background": "light"
     },
     "output_type": "display_data"
    }
   ],
   "source": [
    "print(\"Estado #3:\",severidad.Estado[42])\n",
    "base[42]['Severidad'].value_counts().plot.bar()"
   ]
  },
  {
   "cell_type": "code",
   "execution_count": 191,
   "metadata": {},
   "outputs": [
    {
     "data": {
      "text/plain": [
       "<matplotlib.axes._subplots.AxesSubplot at 0x1fc33bdca48>"
      ]
     },
     "execution_count": 191,
     "metadata": {},
     "output_type": "execute_result"
    },
    {
     "data": {
      "image/png": "[encoded data removed]",
      "text/plain": [
       "<Figure size 432x288 with 1 Axes>"
      ]
     },
     "metadata": {
      "needs_background": "light"
     },
     "output_type": "display_data"
    }
   ],
   "source": [
    "(base[42]['Severidad'].value_counts()/len(base[42])).plot.bar()"
   ]
  },
  {
   "cell_type": "markdown",
   "metadata": {},
   "source": [
    "En el tercer lugar tenemos al estado de Arkansas, lo primero que notamos es que la mayoría de los accidentes son de severidad 2, lo cual es algo extraño como para ponerlo en tercer lugar en severidad media, además con base en la gráfica de barras por porcentaje, vemos que tampoco están muy parejas las severidades en este estado, pues la severidad 2 representa casi el 50% de los accidentes."
   ]
  },
  {
   "cell_type": "code",
   "execution_count": 54,
   "metadata": {},
   "outputs": [
    {
     "data": {
      "text/plain": [
       "<matplotlib.axes._subplots.AxesSubplot at 0x1cb061d6188>"
      ]
     },
     "execution_count": 54,
     "metadata": {},
     "output_type": "execute_result"
    },
    {
     "data": {
      "image/png": "[encoded data removed]",
      "text/plain": [
       "<Figure size 432x288 with 1 Axes>"
      ]
     },
     "metadata": {
      "needs_background": "light"
     },
     "output_type": "display_data"
    }
   ],
   "source": [
    "(base[42]['Clima'].value_counts().head(10)/len(base[42])).plot.bar(color='g')"
   ]
  },
  {
   "cell_type": "code",
   "execution_count": 55,
   "metadata": {},
   "outputs": [
    {
     "data": {
      "text/plain": [
       "<matplotlib.axes._subplots.AxesSubplot at 0x1cb061ad408>"
      ]
     },
     "execution_count": 55,
     "metadata": {},
     "output_type": "execute_result"
    },
    {
     "data": {
      "image/png": "[encoded data removed]",
      "text/plain": [
       "<Figure size 432x288 with 1 Axes>"
      ]
     },
     "metadata": {
      "needs_background": "light"
     },
     "output_type": "display_data"
    }
   ],
   "source": [
    "base[42]['Clima'].value_counts().head(10).plot.bar(color='g')"
   ]
  },
  {
   "cell_type": "markdown",
   "metadata": {},
   "source": [
    "Al ver las gráficas de los climas de este estado, lo primero que se observa es que el clima en el que ocurren más accidentes ahora es un clima templado, aunque los que le siguen son los mismos de siempre, clima despejado y nublado en segundo y tercero, respectivamente.\n"
   ]
  },
  {
   "cell_type": "markdown",
   "metadata": {},
   "source": [
    "También es bueno observar que la cantidad de accidentes en Arkansas es mayor que en Wyoming y mucho mayor que en South Dakota.\n",
    "Además de que este estado no esta tan cerca de los otros dos."
   ]
  },
  {
   "cell_type": "code",
   "execution_count": 14,
   "metadata": {},
   "outputs": [
    {
     "name": "stdout",
     "output_type": "stream",
     "text": [
      "Estado #4: ND\n"
     ]
    },
    {
     "data": {
      "text/plain": [
       "<matplotlib.axes._subplots.AxesSubplot at 0x1ef2631e688>"
      ]
     },
     "execution_count": 14,
     "metadata": {},
     "output_type": "execute_result"
    },
    {
     "data": {
      "image/png": "[encoded data removed]",
      "text/plain": [
       "<Figure size 432x288 with 1 Axes>"
      ]
     },
     "metadata": {
      "needs_background": "light"
     },
     "output_type": "display_data"
    }
   ],
   "source": [
    "print(\"Estado #4:\",severidad.Estado[46])\n",
    "base[46]['Severidad'].value_counts().plot.bar()"
   ]
  },
  {
   "cell_type": "code",
   "execution_count": 200,
   "metadata": {},
   "outputs": [
    {
     "data": {
      "text/plain": [
       "<matplotlib.axes._subplots.AxesSubplot at 0x1fc3405a6c8>"
      ]
     },
     "execution_count": 200,
     "metadata": {},
     "output_type": "execute_result"
    },
    {
     "data": {
      "image/png": "[encoded data removed]",
      "text/plain": [
       "<Figure size 432x288 with 1 Axes>"
      ]
     },
     "metadata": {
      "needs_background": "light"
     },
     "output_type": "display_data"
    }
   ],
   "source": [
    "(base[46]['Severidad'].value_counts()/len(base[46])).plot.bar()"
   ]
  },
  {
   "cell_type": "markdown",
   "metadata": {},
   "source": [
    "En cuarto lugar aparece North Dakota, en este caso las gráficas son muy parecidas a las de Arkansas, la diferencia que se puede observar es que los accidentes de severidad 3 son mayores a los de severidad 4. Observamos que los accidentes de severidad 2 también representan mayoría en North Dakota."
   ]
  },
  {
   "cell_type": "code",
   "execution_count": 56,
   "metadata": {},
   "outputs": [
    {
     "data": {
      "text/plain": [
       "<matplotlib.axes._subplots.AxesSubplot at 0x1cb062e38c8>"
      ]
     },
     "execution_count": 56,
     "metadata": {},
     "output_type": "execute_result"
    },
    {
     "data": {
      "image/png": "[encoded data removed]",
      "text/plain": [
       "<Figure size 432x288 with 1 Axes>"
      ]
     },
     "metadata": {
      "needs_background": "light"
     },
     "output_type": "display_data"
    }
   ],
   "source": [
    "(base[46]['Clima'].value_counts().head(10)/len(base[46])).plot.bar(color='g')"
   ]
  },
  {
   "cell_type": "code",
   "execution_count": 57,
   "metadata": {},
   "outputs": [
    {
     "data": {
      "text/plain": [
       "<matplotlib.axes._subplots.AxesSubplot at 0x1cb0634e108>"
      ]
     },
     "execution_count": 57,
     "metadata": {},
     "output_type": "execute_result"
    },
    {
     "data": {
      "image/png": "[encoded data removed]",
      "text/plain": [
       "<Figure size 432x288 with 1 Axes>"
      ]
     },
     "metadata": {
      "needs_background": "light"
     },
     "output_type": "display_data"
    }
   ],
   "source": [
    "base[46]['Clima'].value_counts().head(10).plot.bar(color='g')"
   ]
  },
  {
   "cell_type": "markdown",
   "metadata": {},
   "source": [
    "A pesar de que la distribución de las severidades de los accidentes eran muy parecidas en North Dakota y Arkansas, aquí sí se observan diferencias significativas, siendo los climas más importantes son despejado y nublado, siendo bastante parecido a los climas que se habían observado en los primeros dos lugares, el hecho de que Nort Dakota es vecino de los primeros dos estados analizados, nos da una idea de por qué los climas son parecidos."
   ]
  },
  {
   "cell_type": "markdown",
   "metadata": {},
   "source": [
    "Además podemos observar el hecho de que aunque la distribución de la severidad era casi igual en Arkansas y North Dakota, la cantidad de accidentes total es mucho mayor en Arkansas."
   ]
  },
  {
   "cell_type": "code",
   "execution_count": 204,
   "metadata": {},
   "outputs": [
    {
     "name": "stdout",
     "output_type": "stream",
     "text": [
      "Estado #5: MT\n"
     ]
    },
    {
     "data": {
      "text/plain": [
       "<matplotlib.axes._subplots.AxesSubplot at 0x1fc33319108>"
      ]
     },
     "execution_count": 204,
     "metadata": {},
     "output_type": "execute_result"
    },
    {
     "data": {
      "image/png": "[encoded data removed]",
      "text/plain": [
       "<Figure size 432x288 with 1 Axes>"
      ]
     },
     "metadata": {
      "needs_background": "light"
     },
     "output_type": "display_data"
    }
   ],
   "source": [
    "print(\"Estado #5:\",severidad.Estado[47])\n",
    "base[47]['Severidad'].value_counts().plot.bar()"
   ]
  },
  {
   "cell_type": "code",
   "execution_count": 205,
   "metadata": {},
   "outputs": [
    {
     "data": {
      "text/plain": [
       "<matplotlib.axes._subplots.AxesSubplot at 0x1fc332d1408>"
      ]
     },
     "execution_count": 205,
     "metadata": {},
     "output_type": "execute_result"
    },
    {
     "data": {
      "image/png": "[encoded data removed]",
      "text/plain": [
       "<Figure size 432x288 with 1 Axes>"
      ]
     },
     "metadata": {
      "needs_background": "light"
     },
     "output_type": "display_data"
    }
   ],
   "source": [
    "(base[47]['Severidad'].value_counts()/len(base[47])).plot.bar()"
   ]
  },
  {
   "cell_type": "markdown",
   "metadata": {},
   "source": [
    "En quinto lugar tenemos a Montana, podemos ver que las gráficas de severidades se parecen a las de North Dakota, pero se observa una diferencia un poco más marcada entre la cantidad de accidentes de severidad 3 y 4, además de que en la gráfica de porcentajes, vemos que en este estado, la severidad 2 representa un poco más del 50%, siendo que en los estados anteriores no era el caso."
   ]
  },
  {
   "cell_type": "code",
   "execution_count": 58,
   "metadata": {},
   "outputs": [
    {
     "data": {
      "text/plain": [
       "<matplotlib.axes._subplots.AxesSubplot at 0x1cb063ff648>"
      ]
     },
     "execution_count": 58,
     "metadata": {},
     "output_type": "execute_result"
    },
    {
     "data": {
      "image/png": "[encoded data removed]",
      "text/plain": [
       "<Figure size 432x288 with 1 Axes>"
      ]
     },
     "metadata": {
      "needs_background": "light"
     },
     "output_type": "display_data"
    }
   ],
   "source": [
    "(base[47]['Clima'].value_counts().head(10)/len(base[47])).plot.bar(color='g')"
   ]
  },
  {
   "cell_type": "code",
   "execution_count": 59,
   "metadata": {},
   "outputs": [
    {
     "data": {
      "text/plain": [
       "<matplotlib.axes._subplots.AxesSubplot at 0x1cb0647dac8>"
      ]
     },
     "execution_count": 59,
     "metadata": {},
     "output_type": "execute_result"
    },
    {
     "data": {
      "image/png": "[encoded data removed]",
      "text/plain": [
       "<Figure size 432x288 with 1 Axes>"
      ]
     },
     "metadata": {
      "needs_background": "light"
     },
     "output_type": "display_data"
    }
   ],
   "source": [
    "base[47]['Clima'].value_counts().head(10).plot.bar(color='g')"
   ]
  },
  {
   "cell_type": "markdown",
   "metadata": {},
   "source": [
    "Con estas gráficas observamos que el clima despejado vuelve a ser el clima con mayor número de accidentes, pero ésta vez entra en segundo lugar un clima con nieve, que es algo nuevo en comparación con los estados anteriores."
   ]
  },
  {
   "cell_type": "markdown",
   "metadata": {},
   "source": [
    "También podemos observar que la cantidad de accidentes en general en el estado, son una cantidad considerable, no tantos como Arkansas que de este grupo de estados es el que mayor cantidad de accidentes tiene, pero una buena cantidad."
   ]
  },
  {
   "cell_type": "markdown",
   "metadata": {},
   "source": [
    "Ya que terminamos de analizar al top 5 de estados dependiendo de su severidad, comenzaremos a realizar el mismo analisis pero ahora con los tipos de clima con mayor severidad."
   ]
  },
  {
   "cell_type": "code",
   "execution_count": 17,
   "metadata": {},
   "outputs": [
    {
     "name": "stdout",
     "output_type": "stream",
     "text": [
      "Tipo de clima #1: Freezing Rain / Windy\n"
     ]
    },
    {
     "data": {
      "text/plain": [
       "<matplotlib.axes._subplots.AxesSubplot at 0x1ef26440f48>"
      ]
     },
     "execution_count": 17,
     "metadata": {},
     "output_type": "execute_result"
    },
    {
     "data": {
      "image/png": "[encoded data removed]",
      "text/plain": [
       "<Figure size 432x288 with 1 Axes>"
      ]
     },
     "metadata": {
      "needs_background": "light"
     },
     "output_type": "display_data"
    }
   ],
   "source": [
    "print(\"Tipo de clima #1:\", severidad2.Clima[115])\n",
    "climas[115]['Severidad'].value_counts().plot.bar()"
   ]
  },
  {
   "cell_type": "markdown",
   "metadata": {},
   "source": [
    "Aquí podemos observar que nuestra base de datos solo cuenta con un dato de Freezing Rain / Windy el cual cuenta con una severidad de 4, con esto nos damos cuenta el por qué está en primer lugar en la severidad media. Es un buen dato, pero complicado para analizar ya que es una cuestión única."
   ]
  },
  {
   "cell_type": "code",
   "execution_count": 20,
   "metadata": {},
   "outputs": [
    {
     "data": {
      "text/plain": [
       "<matplotlib.axes._subplots.AxesSubplot at 0x1ef2ea90388>"
      ]
     },
     "execution_count": 20,
     "metadata": {},
     "output_type": "execute_result"
    },
    {
     "data": {
      "image/png": "[encoded data removed]",
      "text/plain": [
       "<Figure size 432x288 with 1 Axes>"
      ]
     },
     "metadata": {
      "needs_background": "light"
     },
     "output_type": "display_data"
    }
   ],
   "source": [
    "(climas[115]['Estado'].value_counts()/len(climas[115])).plot.bar()"
   ]
  },
  {
   "cell_type": "markdown",
   "metadata": {},
   "source": [
    "Como bien deciamos,solo hay un dato único donde ha ocurrido un accidente con el tipo de clima Freezing Rain / Windy y se encuentra en el estado de Oregon, pero como bien sabemos, Oregon no se encuentra en el top 5 de estados con mayor severidad media."
   ]
  },
  {
   "cell_type": "code",
   "execution_count": 21,
   "metadata": {},
   "outputs": [
    {
     "name": "stdout",
     "output_type": "stream",
     "text": [
      "Tipo de clima #2: Light Blowing Snow\n"
     ]
    },
    {
     "data": {
      "text/plain": [
       "<matplotlib.axes._subplots.AxesSubplot at 0x1ef367af208>"
      ]
     },
     "execution_count": 21,
     "metadata": {},
     "output_type": "execute_result"
    },
    {
     "data": {
      "image/png": "[encoded data removed]",
      "text/plain": [
       "<Figure size 432x288 with 1 Axes>"
      ]
     },
     "metadata": {
      "needs_background": "light"
     },
     "output_type": "display_data"
    }
   ],
   "source": [
    "print(\"Tipo de clima #2:\", severidad2.Clima[112])\n",
    "climas[112]['Severidad'].value_counts().plot.bar()"
   ]
  },
  {
   "cell_type": "markdown",
   "metadata": {},
   "source": [
    "En segundo lugar tenemos al tipo de clima de Light Blowing Snow, el cual nada mas cuenta con 3 registros en nuestra base de datos. Siguen siendo muy pocos datos como para que cause un fuerte impacto"
   ]
  },
  {
   "cell_type": "code",
   "execution_count": 22,
   "metadata": {},
   "outputs": [
    {
     "data": {
      "text/plain": [
       "<matplotlib.axes._subplots.AxesSubplot at 0x1ef36822a88>"
      ]
     },
     "execution_count": 22,
     "metadata": {},
     "output_type": "execute_result"
    },
    {
     "data": {
      "image/png": "[encoded data removed]",
      "text/plain": [
       "<Figure size 432x288 with 1 Axes>"
      ]
     },
     "metadata": {
      "needs_background": "light"
     },
     "output_type": "display_data"
    }
   ],
   "source": [
    "(climas[112]['Estado'].value_counts()/len(climas[112])).plot.bar()"
   ]
  },
  {
   "cell_type": "markdown",
   "metadata": {},
   "source": [
    "Vemos que este tipo de clima solo se dio en accidentes que ocurrieron en NY, pero como bien sabemos Nueva York no se encuentra en el top 5 de estados con mayor severidad media."
   ]
  },
  {
   "cell_type": "code",
   "execution_count": 23,
   "metadata": {},
   "outputs": [
    {
     "name": "stdout",
     "output_type": "stream",
     "text": [
      "Tipo de clima #3: Thunder / Wintry Mix / Windy\n"
     ]
    },
    {
     "data": {
      "text/plain": [
       "<matplotlib.axes._subplots.AxesSubplot at 0x1ef36822a08>"
      ]
     },
     "execution_count": 23,
     "metadata": {},
     "output_type": "execute_result"
    },
    {
     "data": {
      "image/png": "[encoded data removed]",
      "text/plain": [
       "<Figure size 432x288 with 1 Axes>"
      ]
     },
     "metadata": {
      "needs_background": "light"
     },
     "output_type": "display_data"
    }
   ],
   "source": [
    "print(\"Tipo de clima #3:\", severidad2.Clima[104])\n",
    "climas[104]['Severidad'].value_counts().plot.bar()"
   ]
  },
  {
   "cell_type": "markdown",
   "metadata": {},
   "source": [
    "En tercer lugar tenemos el tipo de clima de Thunder / Wintry Mix / Windy el cual solo se encuentra en un solo registro de nuestra base de datos. Es un buen dato, pero complicado para analizar ya que es una cuestión única."
   ]
  },
  {
   "cell_type": "code",
   "execution_count": 24,
   "metadata": {},
   "outputs": [
    {
     "data": {
      "text/plain": [
       "<matplotlib.axes._subplots.AxesSubplot at 0x1ef41764808>"
      ]
     },
     "execution_count": 24,
     "metadata": {},
     "output_type": "execute_result"
    },
    {
     "data": {
      "image/png": "[encoded data removed]",
      "text/plain": [
       "<Figure size 432x288 with 1 Axes>"
      ]
     },
     "metadata": {
      "needs_background": "light"
     },
     "output_type": "display_data"
    }
   ],
   "source": [
    "(climas[104]['Estado'].value_counts()/len(climas[104])).plot.bar()"
   ]
  },
  {
   "cell_type": "markdown",
   "metadata": {},
   "source": [
    "El estado de Minnesota es el único que cuenta con un accidente registrado que sucedio con un tipo de clima de Thunder / Wintry Mix / Windy y como bien sabemos este estado no se encuentra en nuestro top 5 de estados con mayor severidad media."
   ]
  },
  {
   "cell_type": "code",
   "execution_count": 25,
   "metadata": {},
   "outputs": [
    {
     "name": "stdout",
     "output_type": "stream",
     "text": [
      "Tipo de clima #4: Blowing Sand\n"
     ]
    },
    {
     "data": {
      "text/plain": [
       "<matplotlib.axes._subplots.AxesSubplot at 0x1ef36814188>"
      ]
     },
     "execution_count": 25,
     "metadata": {},
     "output_type": "execute_result"
    },
    {
     "data": {
      "image/png": "[encoded data removed]",
      "text/plain": [
       "<Figure size 432x288 with 1 Axes>"
      ]
     },
     "metadata": {
      "needs_background": "light"
     },
     "output_type": "display_data"
    }
   ],
   "source": [
    "print(\"Tipo de clima #4:\", severidad2.Clima[28])\n",
    "climas[28]['Severidad'].value_counts().plot.bar()"
   ]
  },
  {
   "cell_type": "markdown",
   "metadata": {},
   "source": [
    "En cuarto lugar se encuentra el tipo de clima de Blowing Sand , el cual observamos es un valor único. Es un buen dato, pero complicado para analizar ya que es una cuestión única."
   ]
  },
  {
   "cell_type": "code",
   "execution_count": 26,
   "metadata": {},
   "outputs": [
    {
     "data": {
      "text/plain": [
       "<matplotlib.axes._subplots.AxesSubplot at 0x1ef437e4208>"
      ]
     },
     "execution_count": 26,
     "metadata": {},
     "output_type": "execute_result"
    },
    {
     "data": {
      "image/png": "[encoded data removed]",
      "text/plain": [
       "<Figure size 432x288 with 1 Axes>"
      ]
     },
     "metadata": {
      "needs_background": "light"
     },
     "output_type": "display_data"
    }
   ],
   "source": [
    "(climas[28]['Estado'].value_counts()/len(climas[28])).plot.bar()"
   ]
  },
  {
   "cell_type": "markdown",
   "metadata": {},
   "source": [
    "El estado de California es el único que cuenta con un accidente registrado que sucedio con un tipo de clima de Blowing Sand y como bien sabemos este estado no se encuentra en nuestro top 5 de estados con mayor severidad media."
   ]
  },
  {
   "cell_type": "code",
   "execution_count": 27,
   "metadata": {},
   "outputs": [
    {
     "name": "stdout",
     "output_type": "stream",
     "text": [
      "Tipo de clima #5: Partial Fog / Windy\n"
     ]
    },
    {
     "data": {
      "text/plain": [
       "<matplotlib.axes._subplots.AxesSubplot at 0x1ef43840a88>"
      ]
     },
     "execution_count": 27,
     "metadata": {},
     "output_type": "execute_result"
    },
    {
     "data": {
      "image/png": "[encoded data removed]",
      "text/plain": [
       "<Figure size 432x288 with 1 Axes>"
      ]
     },
     "metadata": {
      "needs_background": "light"
     },
     "output_type": "display_data"
    }
   ],
   "source": [
    "print(\"Tipo de clima #5:\", severidad2.Clima[93])\n",
    "climas[93]['Severidad'].value_counts().plot.bar()"
   ]
  },
  {
   "cell_type": "markdown",
   "metadata": {},
   "source": [
    "En quinto lugar tenemos el tipo de clima Partial Fog / Windy, el cual vuelev a mostrarse como un valor único. "
   ]
  },
  {
   "cell_type": "code",
   "execution_count": 28,
   "metadata": {},
   "outputs": [
    {
     "data": {
      "text/plain": [
       "<matplotlib.axes._subplots.AxesSubplot at 0x1ef438a1048>"
      ]
     },
     "execution_count": 28,
     "metadata": {},
     "output_type": "execute_result"
    },
    {
     "data": {
      "image/png": "[encoded data removed]",
      "text/plain": [
       "<Figure size 432x288 with 1 Axes>"
      ]
     },
     "metadata": {
      "needs_background": "light"
     },
     "output_type": "display_data"
    }
   ],
   "source": [
    "(climas[93]['Estado'].value_counts()/len(climas[93])).plot.bar()"
   ]
  },
  {
   "cell_type": "markdown",
   "metadata": {},
   "source": [
    "El estado de Nuevo México es el único estado que cuenta con un accidente registrado con el tipo de clima de Partial Fog / Windy y como bien sabemos este estado no se encuentra en nuestro top 5 de estados con mayor severidad media."
   ]
  },
  {
   "cell_type": "markdown",
   "metadata": {},
   "source": [
    "### Con la información que aquí tenemos, podemos resolver nuestra primera pregunta de interés. "
   ]
  },
  {
   "cell_type": "markdown",
   "metadata": {},
   "source": [
    "Vemos que el estado en el que se debe de tener mayor cuidado, en cuanto a que si tenemos un accidente lo mas probable es que su severidad sea alta, es en el estado de Dakota del Sur.\n",
    "Vemos que el tipo de clima en el que se debe de tener mayor cuidado, en cuanto a que si tenemos un accidente lo mas probable es que su severidad sea alta, es cuando el tipo de clima es Freezin Rain / Windy.\n",
    "Por lo que si South Dakota llegase a tener un dia con clima tipo Freezin Rain / Windy lo mas probable es que si se tiene un choque la severidad esperada sea muy alta."
   ]
  },
  {
   "cell_type": "markdown",
   "metadata": {},
   "source": [
    "## 3. Realizamos la técnica de regresión "
   ]
  },
  {
   "cell_type": "code",
   "execution_count": null,
   "metadata": {},
   "outputs": [],
   "source": []
  }
 ],
 "metadata": {
  "kernelspec": {
   "display_name": "Python 3",
   "language": "python",
   "name": "python3"
  },
  "language_info": {
   "codemirror_mode": {
    "name": "ipython",
    "version": 3
   },
   "file_extension": ".py",
   "mimetype": "text/x-python",
   "name": "python",
   "nbconvert_exporter": "python",
   "pygments_lexer": "ipython3",
   "version": "3.7.4"
  }
 },
 "nbformat": 4,
 "nbformat_minor": 2
}
